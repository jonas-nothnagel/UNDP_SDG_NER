{
 "cells": [
  {
   "cell_type": "code",
   "execution_count": 1,
   "metadata": {},
   "outputs": [],
   "source": [
    "import pandas as pd\n",
    "import numpy as np"
   ]
  },
  {
   "cell_type": "code",
   "execution_count": 3,
   "metadata": {},
   "outputs": [],
   "source": [
    "def tweet_retriever(df):\n",
    "    from numpy import where\n",
    "    df = df.copy()\n",
    "    df = df[['text', 'truncated', 'extended_tweet', 'lang']]\n",
    "    df = df[df['lang'] == 'en']\n",
    "    df['tweet'] = where(df['truncated'] == True, df['extended_tweet'], df['text'])\n",
    "    tweet_list = []\n",
    "    for x in df['tweet']:\n",
    "        try:\n",
    "            tweet_list.append(x['full_text'])\n",
    "        except:\n",
    "            tweet_list.append(x)\n",
    "    df['tweet'] = tweet_list\n",
    "    return df['tweet'].reset_index(drop= True)"
   ]
  },
  {
   "cell_type": "code",
   "execution_count": 26,
   "metadata": {},
   "outputs": [],
   "source": [
    "df = pd.read_json('UNDP_keywords_SDG_16.json', lines = True)\n",
    "#df1 = pd.read_json('UNDP_keywords_SDG_11part2.json', lines = True)\n",
    "# df2 = pd.read_json('UNDP_keywords_SDG_3part3.json', lines = True)\n",
    "# df3 = pd.read_json('UNDP_keywords_SDG_3part4.json', lines = True) "
   ]
  },
  {
   "cell_type": "code",
   "execution_count": 27,
   "metadata": {},
   "outputs": [],
   "source": [
    "df = tweet_retriever(df)  \n",
    "# df1 = tweet_retriever(df1)\n",
    "# df2 = tweet_retriever(df2)\n",
    "# df3 = tweet_retriever(df3)"
   ]
  },
  {
   "cell_type": "code",
   "execution_count": 28,
   "metadata": {},
   "outputs": [],
   "source": [
    "df.to_csv('sdg16_2_tweets.csv')"
   ]
  },
  {
   "cell_type": "code",
   "execution_count": 122,
   "metadata": {},
   "outputs": [],
   "source": [
    "# df_2 = pd.concat([df,df1], ignore_index = True)"
   ]
  },
  {
   "cell_type": "code",
   "execution_count": 123,
   "metadata": {},
   "outputs": [],
   "source": [
    "# df_2.to_csv('sdg12_2_tweets.csv')"
   ]
  },
  {
   "cell_type": "code",
   "execution_count": 103,
   "metadata": {},
   "outputs": [],
   "source": [
    "#df.to_csv('sdg14_tweets.csv')"
   ]
  },
  {
   "cell_type": "code",
   "execution_count": 48,
   "metadata": {},
   "outputs": [],
   "source": []
  },
  {
   "cell_type": "code",
   "execution_count": 49,
   "metadata": {},
   "outputs": [],
   "source": []
  },
  {
   "cell_type": "code",
   "execution_count": null,
   "metadata": {},
   "outputs": [],
   "source": []
  }
 ],
 "metadata": {
  "kernelspec": {
   "display_name": "Python 3",
   "language": "python",
   "name": "python3"
  },
  "language_info": {
   "codemirror_mode": {
    "name": "ipython",
    "version": 3
   },
   "file_extension": ".py",
   "mimetype": "text/x-python",
   "name": "python",
   "nbconvert_exporter": "python",
   "pygments_lexer": "ipython3",
   "version": "3.8.4"
  }
 },
 "nbformat": 4,
 "nbformat_minor": 4
}
