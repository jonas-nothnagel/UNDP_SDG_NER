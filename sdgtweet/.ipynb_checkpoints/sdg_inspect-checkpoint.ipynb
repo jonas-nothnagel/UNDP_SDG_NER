{
 "cells": [
  {
   "cell_type": "code",
   "execution_count": 32,
   "metadata": {},
   "outputs": [],
   "source": [
    "import pandas as pd\n",
    "pd.set_option('display.max_colwidth', None)"
   ]
  },
  {
   "cell_type": "code",
   "execution_count": 23,
   "metadata": {},
   "outputs": [],
   "source": [
    "# df1 = pd.read_csv(f'sdg1_tweets.csv', index_col = 0)\n",
    "# df2 = pd.read_csv(f'sdg2_tweets.csv', index_col = 0)\n",
    "# df3 = pd.read_csv(f'sdg3_tweets.csv', index_col = 0)\n",
    "# df4 = pd.read_csv(f'sdg4_tweets.csv', index_col = 0)\n",
    "# df5 = pd.read_csv(f'sdg5_tweets.csv', index_col = 0)\n",
    "# df6 = pd.read_csv(f'sdg6_tweets.csv', index_col = 0)\n",
    "# df7 = pd.read_csv(f'sdg7_tweets.csv', index_col = 0)\n",
    "# df8 = pd.read_csv(f'sdg8_tweets.csv', index_col = 0)\n",
    "# df9 = pd.read_csv(f'sdg9_tweets.csv', index_col = 0)\n",
    "# df10 = pd.read_csv(f'sdg10_tweets.csv', index_col = 0)\n",
    "# df11 = pd.read_csv(f'sdg11_tweets.csv', index_col = 0)\n",
    "# df12 = pd.read_csv(f'sdg12_tweets.csv', index_col = 0)\n",
    "# df13 = pd.read_csv(f'sdg13_tweets.csv', index_col = 0)\n",
    "# df14 = pd.read_csv(f'sdg14_tweets.csv', index_col = 0)\n",
    "# df15 = pd.read_csv(f'sdg15_tweets.csv', index_col = 0)\n",
    "# df16 = pd.read_csv(f'sdg16_tweets.csv', index_col = 0)\n",
    "# df17 = pd.read_csv(f'sdg17_tweets.csv', index_col = 0)"
   ]
  },
  {
   "cell_type": "code",
   "execution_count": 25,
   "metadata": {},
   "outputs": [],
   "source": [
    "# df1['sdg'] = 1\n",
    "# df2['sdg'] = 2\n",
    "# df3['sdg'] = 3\n",
    "# df4['sdg'] = 4\n",
    "# df5['sdg'] = 5\n",
    "# df6['sdg'] = 6\n",
    "# df7['sdg'] = 7\n",
    "# df8['sdg'] = 8\n",
    "# df9['sdg'] = 9\n",
    "# df10['sdg'] = 10\n",
    "# df11['sdg'] = 11\n",
    "# df12['sdg'] = 12\n",
    "# df13['sdg'] = 13\n",
    "# df14['sdg'] = 14\n",
    "# df15['sdg'] = 15\n",
    "# df16['sdg'] = 16\n",
    "# df17['sdg'] = 17"
   ]
  },
  {
   "cell_type": "code",
   "execution_count": 27,
   "metadata": {},
   "outputs": [],
   "source": [
    "# df_list = [df1,df2,df3,df4,df5,df6,df7,df8,df9,df10,df11,df12,df13,df14,df15,df16,df17]"
   ]
  },
  {
   "cell_type": "code",
   "execution_count": 30,
   "metadata": {},
   "outputs": [],
   "source": [
    "# df_list = pd.concat(df_list, ignore_index = True)"
   ]
  },
  {
   "cell_type": "code",
   "execution_count": 42,
   "metadata": {},
   "outputs": [],
   "source": [
    "df = df_list.drop_duplicates()"
   ]
  },
  {
   "cell_type": "code",
   "execution_count": 43,
   "metadata": {},
   "outputs": [],
   "source": [
    "df = df[~df['tweet'].astype(str).str.startswith('RT')]"
   ]
  },
  {
   "cell_type": "code",
   "execution_count": 45,
   "metadata": {},
   "outputs": [],
   "source": [
    "from collections import Counter"
   ]
  },
  {
   "cell_type": "code",
   "execution_count": 61,
   "metadata": {},
   "outputs": [],
   "source": [
    "df['tweet_len'] = df['tweet'].apply(lambda x: len(str(x)))"
   ]
  },
  {
   "cell_type": "code",
   "execution_count": 64,
   "metadata": {},
   "outputs": [],
   "source": [
    "df = df[df['tweet_len'] > 100]"
   ]
  },
  {
   "cell_type": "code",
   "execution_count": 68,
   "metadata": {},
   "outputs": [],
   "source": [
    "df = df.reset_index(drop = True)"
   ]
  },
  {
   "cell_type": "code",
   "execution_count": 70,
   "metadata": {},
   "outputs": [],
   "source": [
    "df.to_csv('17SDG_tweets.csv')"
   ]
  },
  {
   "cell_type": "code",
   "execution_count": null,
   "metadata": {},
   "outputs": [],
   "source": []
  }
 ],
 "metadata": {
  "kernelspec": {
   "display_name": "Python 3",
   "language": "python",
   "name": "python3"
  },
  "language_info": {
   "codemirror_mode": {
    "name": "ipython",
    "version": 3
   },
   "file_extension": ".py",
   "mimetype": "text/x-python",
   "name": "python",
   "nbconvert_exporter": "python",
   "pygments_lexer": "ipython3",
   "version": "3.7.4"
  }
 },
 "nbformat": 4,
 "nbformat_minor": 2
}
