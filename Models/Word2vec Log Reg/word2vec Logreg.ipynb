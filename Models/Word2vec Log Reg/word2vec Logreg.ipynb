{
 "cells": [
  {
   "cell_type": "code",
   "execution_count": 6,
   "id": "b31dcf77",
   "metadata": {},
   "outputs": [],
   "source": [
    "import spacy\n",
    "import en_core_web_lg\n",
    "nlp = en_core_web_lg.load()"
   ]
  },
  {
   "cell_type": "code",
   "execution_count": 7,
   "id": "5021a9e2",
   "metadata": {},
   "outputs": [],
   "source": [
    "import numpy as np\n",
    "import pandas as pd\n",
    "\n",
    "from sklearn.linear_model import LogisticRegression\n",
    "from sklearn.model_selection import train_test_split\n",
    "\n",
    "from sklearn.metrics import classification_report"
   ]
  },
  {
   "cell_type": "code",
   "execution_count": 13,
   "id": "4a786000",
   "metadata": {},
   "outputs": [],
   "source": [
    "df = pd.read_csv('17SDGpt2_tweets.csv', lineterminator='\\n', index_col = 0)"
   ]
  },
  {
   "cell_type": "code",
   "execution_count": 14,
   "id": "034e38d5",
   "metadata": {},
   "outputs": [],
   "source": [
    "def decontracted(phrase):\n",
    "    \"\"\"decontracts the words to its expanded form\"\"\"\n",
    "    phrase = re.sub(r\"won\\'t\", \"will not\", phrase)\n",
    "    phrase = re.sub(r\"can\\'t\", \"can not\", phrase)\n",
    "\n",
    "    # general\n",
    "    phrase = re.sub(r\"n\\'t\", \" not\", phrase)\n",
    "    phrase = re.sub(r\"\\'re\", \" are\", phrase)\n",
    "    phrase = re.sub(r\"\\'s\", \" is\", phrase)\n",
    "    phrase = re.sub(r\"\\'d\", \" would\", phrase)\n",
    "    phrase = re.sub(r\"\\'ll\", \" will\", phrase)\n",
    "    phrase = re.sub(r\"\\'t\", \" not\", phrase)\n",
    "    phrase = re.sub(r\"\\'ve\", \" have\", phrase)\n",
    "    phrase = re.sub(r\"\\'m\", \" am\", phrase)\n",
    "    return phrase"
   ]
  },
  {
   "cell_type": "code",
   "execution_count": 15,
   "id": "98cc6d78",
   "metadata": {},
   "outputs": [],
   "source": [
    "import re\n",
    "\n",
    "def clean_text(df):\n",
    "    df = df.copy().reset_index(drop = True)\n",
    "     \n",
    "    #decontract\n",
    "    df = df.apply(decontracted)\n",
    "    \n",
    "    df = df.apply(lambda x: re.sub(r\"http\\S+\", \"\", x), 1)\\\n",
    ".apply(lambda i: \" \".join(filter(lambda x:x[0]!=\"@\", i.split())), 1)\\\n",
    ".apply(lambda x: re.sub(r\"&amp\", \"\",x),1)\\\n",
    ".apply(lambda x: re.sub(r\"&amp;\", \"\",x),1)\\\n",
    ".apply(lambda x: str(x).lower()).replace('\\\\', '').replace('_', ' ')\\\n",
    ".apply(lambda x: re.sub(r'[_\"\\-;%()|+&=*%.,!?:#$@\\[\\]/]', ' ', x),1)\n",
    "\n",
    "    return df"
   ]
  },
  {
   "cell_type": "code",
   "execution_count": null,
   "id": "a7365bec",
   "metadata": {},
   "outputs": [],
   "source": [
    "def clean_sentence(string):\n",
    "    string = re.sub()"
   ]
  },
  {
   "cell_type": "code",
   "execution_count": 16,
   "id": "35e31034",
   "metadata": {},
   "outputs": [],
   "source": [
    "df['clean_tweet'] = clean_text(df['tweet'])\n",
    "df['clean_tweet'] = df['clean_tweet'].drop_duplicates()\n",
    "df = df[~df['clean_tweet'].isnull()]\n",
    "df = df[['sdg', 'clean_tweet']]"
   ]
  },
  {
   "cell_type": "code",
   "execution_count": 17,
   "id": "0d374470",
   "metadata": {},
   "outputs": [
    {
     "data": {
      "text/html": [
       "<div>\n",
       "<style scoped>\n",
       "    .dataframe tbody tr th:only-of-type {\n",
       "        vertical-align: middle;\n",
       "    }\n",
       "\n",
       "    .dataframe tbody tr th {\n",
       "        vertical-align: top;\n",
       "    }\n",
       "\n",
       "    .dataframe thead th {\n",
       "        text-align: right;\n",
       "    }\n",
       "</style>\n",
       "<table border=\"1\" class=\"dataframe\">\n",
       "  <thead>\n",
       "    <tr style=\"text-align: right;\">\n",
       "      <th></th>\n",
       "      <th>sdg</th>\n",
       "      <th>clean_tweet</th>\n",
       "    </tr>\n",
       "  </thead>\n",
       "  <tbody>\n",
       "    <tr>\n",
       "      <th>0</th>\n",
       "      <td>16</td>\n",
       "      <td>our spousal sponsorship application sent to th...</td>\n",
       "    </tr>\n",
       "    <tr>\n",
       "      <th>1</th>\n",
       "      <td>16</td>\n",
       "      <td>star wars the vintage collection vc186 boba fe...</td>\n",
       "    </tr>\n",
       "    <tr>\n",
       "      <th>2</th>\n",
       "      <td>16</td>\n",
       "      <td>cds is hiring a team lead for our delivery pol...</td>\n",
       "    </tr>\n",
       "    <tr>\n",
       "      <th>3</th>\n",
       "      <td>16</td>\n",
       "      <td>was watching him on show… a person that was re...</td>\n",
       "    </tr>\n",
       "    <tr>\n",
       "      <th>4</th>\n",
       "      <td>16</td>\n",
       "      <td>as written  xiv directly contradicts medical a...</td>\n",
       "    </tr>\n",
       "    <tr>\n",
       "      <th>...</th>\n",
       "      <td>...</td>\n",
       "      <td>...</td>\n",
       "    </tr>\n",
       "    <tr>\n",
       "      <th>162355</th>\n",
       "      <td>17</td>\n",
       "      <td>you dont care about all the people who are los...</td>\n",
       "    </tr>\n",
       "    <tr>\n",
       "      <th>162356</th>\n",
       "      <td>17</td>\n",
       "      <td>to be a guest for what   how to smoke crack or...</td>\n",
       "    </tr>\n",
       "    <tr>\n",
       "      <th>162357</th>\n",
       "      <td>17</td>\n",
       "      <td>mba alumni association announces an official c...</td>\n",
       "    </tr>\n",
       "    <tr>\n",
       "      <th>162358</th>\n",
       "      <td>17</td>\n",
       "      <td>they are feeling it as far away as australia  ...</td>\n",
       "    </tr>\n",
       "    <tr>\n",
       "      <th>162359</th>\n",
       "      <td>17</td>\n",
       "      <td>talk about agenda what do you think this was m...</td>\n",
       "    </tr>\n",
       "  </tbody>\n",
       "</table>\n",
       "<p>148640 rows × 2 columns</p>\n",
       "</div>"
      ],
      "text/plain": [
       "        sdg                                        clean_tweet\n",
       "0        16  our spousal sponsorship application sent to th...\n",
       "1        16  star wars the vintage collection vc186 boba fe...\n",
       "2        16  cds is hiring a team lead for our delivery pol...\n",
       "3        16  was watching him on show… a person that was re...\n",
       "4        16  as written  xiv directly contradicts medical a...\n",
       "...     ...                                                ...\n",
       "162355   17  you dont care about all the people who are los...\n",
       "162356   17  to be a guest for what   how to smoke crack or...\n",
       "162357   17  mba alumni association announces an official c...\n",
       "162358   17  they are feeling it as far away as australia  ...\n",
       "162359   17  talk about agenda what do you think this was m...\n",
       "\n",
       "[148640 rows x 2 columns]"
      ]
     },
     "execution_count": 17,
     "metadata": {},
     "output_type": "execute_result"
    }
   ],
   "source": [
    "df"
   ]
  },
  {
   "cell_type": "code",
   "execution_count": 18,
   "id": "7db681e1",
   "metadata": {},
   "outputs": [],
   "source": [
    "def get_vec(x):\n",
    "    doc = nlp(x)\n",
    "    vec = doc.vector\n",
    "    return vec"
   ]
  },
  {
   "cell_type": "code",
   "execution_count": 19,
   "id": "f419b1a5",
   "metadata": {},
   "outputs": [],
   "source": [
    "df['vec'] = df['clean_tweet'].apply(lambda x: get_vec(x))"
   ]
  },
  {
   "cell_type": "code",
   "execution_count": 20,
   "id": "a0116931",
   "metadata": {},
   "outputs": [
    {
     "data": {
      "text/plain": [
       "0         [-0.13250092, -0.016407665, 0.030081144, -0.07...\n",
       "1         [0.044625, -0.064564094, 0.12102854, -0.076023...\n",
       "2         [-0.104450434, 0.17593025, 0.001941288, -0.024...\n",
       "3         [-0.011462458, 0.08298158, -0.1042032, -0.0250...\n",
       "4         [-0.04601867, 0.053797245, -0.13446185, 0.0557...\n",
       "                                ...                        \n",
       "162355    [-0.09476761, 0.08401415, -0.17036651, -0.1726...\n",
       "162356    [-0.069012105, 0.105398305, -0.15936907, 0.064...\n",
       "162357    [0.008951428, 0.052970894, 0.042005144, 0.0033...\n",
       "162358    [-0.010249723, 0.13045676, -0.10021108, -0.068...\n",
       "162359    [-0.12701419, 0.1285858, -0.18099453, 0.019388...\n",
       "Name: vec, Length: 148640, dtype: object"
      ]
     },
     "execution_count": 20,
     "metadata": {},
     "output_type": "execute_result"
    }
   ],
   "source": [
    "df['vec']"
   ]
  },
  {
   "cell_type": "code",
   "execution_count": 23,
   "id": "69dc0397",
   "metadata": {},
   "outputs": [
    {
     "name": "stdout",
     "output_type": "stream",
     "text": [
      "<class 'pandas.core.frame.DataFrame'>\n",
      "Int64Index: 148640 entries, 0 to 162359\n",
      "Data columns (total 3 columns):\n",
      " #   Column       Non-Null Count   Dtype \n",
      "---  ------       --------------   ----- \n",
      " 0   sdg          148640 non-null  int64 \n",
      " 1   clean_tweet  148640 non-null  object\n",
      " 2   vec          148640 non-null  object\n",
      "dtypes: int64(1), object(2)\n",
      "memory usage: 4.5+ MB\n"
     ]
    }
   ],
   "source": [
    "df.info()"
   ]
  },
  {
   "cell_type": "code",
   "execution_count": 24,
   "id": "fc7e41eb",
   "metadata": {},
   "outputs": [],
   "source": [
    "df.to_json('vec_df.json')"
   ]
  },
  {
   "cell_type": "code",
   "execution_count": 54,
   "id": "9d7db6e4",
   "metadata": {},
   "outputs": [
    {
     "name": "stdout",
     "output_type": "stream",
     "text": [
      "(148640,)\n",
      "(148640, 1)\n"
     ]
    }
   ],
   "source": [
    "X = df['vec'].to_numpy()\n",
    "print(X.shape)\n",
    "X = X.reshape(-1, 1)\n",
    "print(X.shape)"
   ]
  },
  {
   "cell_type": "code",
   "execution_count": 55,
   "id": "2d4eed3e",
   "metadata": {},
   "outputs": [
    {
     "data": {
      "text/plain": [
       "(148640,)"
      ]
     },
     "execution_count": 55,
     "metadata": {},
     "output_type": "execute_result"
    }
   ],
   "source": [
    "y = df['sdg']\n",
    "y.shape"
   ]
  },
  {
   "cell_type": "code",
   "execution_count": 56,
   "id": "359f38e8",
   "metadata": {},
   "outputs": [],
   "source": [
    "X_vec = np.concatenate(np.concatenate(X, axis = 0), axis = 0).reshape(-1, 300)"
   ]
  },
  {
   "cell_type": "code",
   "execution_count": 57,
   "id": "6648b82a",
   "metadata": {},
   "outputs": [
    {
     "data": {
      "text/plain": [
       "(148640, 300)"
      ]
     },
     "execution_count": 57,
     "metadata": {},
     "output_type": "execute_result"
    }
   ],
   "source": [
    "X_vec.shape"
   ]
  },
  {
   "cell_type": "code",
   "execution_count": 58,
   "id": "b8bd31bb",
   "metadata": {},
   "outputs": [],
   "source": [
    "X_train, X_test, y_train, y_test = train_test_split(X_vec, y, test_size = 0.4, random_state = 777, stratify = y)"
   ]
  },
  {
   "cell_type": "code",
   "execution_count": 59,
   "id": "460e7c45",
   "metadata": {},
   "outputs": [
    {
     "data": {
      "text/plain": [
       "((89184, 300), (59456, 300), (89184,), (59456,))"
      ]
     },
     "execution_count": 59,
     "metadata": {},
     "output_type": "execute_result"
    }
   ],
   "source": [
    "X_train.shape, X_test.shape, y_train.shape, y_test.shape"
   ]
  },
  {
   "cell_type": "code",
   "execution_count": 60,
   "id": "c2902c09",
   "metadata": {},
   "outputs": [],
   "source": [
    "clf = LogisticRegression(solver='liblinear')"
   ]
  },
  {
   "cell_type": "code",
   "execution_count": 61,
   "id": "d187680c",
   "metadata": {},
   "outputs": [
    {
     "data": {
      "text/plain": [
       "LogisticRegression(solver='liblinear')"
      ]
     },
     "execution_count": 61,
     "metadata": {},
     "output_type": "execute_result"
    }
   ],
   "source": [
    "clf.fit(X_train, y_train)"
   ]
  },
  {
   "cell_type": "code",
   "execution_count": 62,
   "id": "49026dc0",
   "metadata": {},
   "outputs": [],
   "source": [
    "y_pred = clf.predict(X_test)"
   ]
  },
  {
   "cell_type": "code",
   "execution_count": 63,
   "id": "c27f40d1",
   "metadata": {},
   "outputs": [
    {
     "name": "stdout",
     "output_type": "stream",
     "text": [
      "              precision    recall  f1-score   support\n",
      "\n",
      "           1       0.73      0.75      0.74      2139\n",
      "           2       0.63      0.57      0.60      2242\n",
      "           3       0.43      0.40      0.41      4194\n",
      "           4       0.67      0.85      0.75      8339\n",
      "           5       0.65      0.73      0.68      3004\n",
      "           6       0.62      0.54      0.58      2130\n",
      "           7       0.71      0.68      0.69      3004\n",
      "           8       0.50      0.43      0.46      3139\n",
      "           9       0.50      0.60      0.55      4840\n",
      "          10       0.55      0.42      0.48      2987\n",
      "          11       0.48      0.40      0.44      3388\n",
      "          12       0.67      0.68      0.67      3886\n",
      "          13       0.61      0.54      0.57      2624\n",
      "          14       0.60      0.43      0.50      2030\n",
      "          15       0.58      0.63      0.60      4806\n",
      "          16       0.45      0.44      0.44      4024\n",
      "          17       0.55      0.46      0.50      2680\n",
      "\n",
      "    accuracy                           0.59     59456\n",
      "   macro avg       0.58      0.56      0.57     59456\n",
      "weighted avg       0.58      0.59      0.58     59456\n",
      "\n"
     ]
    }
   ],
   "source": [
    "print(classification_report(y_test, y_pred))"
   ]
  },
  {
   "cell_type": "code",
   "execution_count": 64,
   "id": "53a482f9",
   "metadata": {},
   "outputs": [],
   "source": [
    "import pickle\n",
    "\n",
    "pickle.dump(clf, open('w2v_sdg.pkl', 'wb'))\n",
    "model = pickle.load(open('w2v_sdg.pkl', 'rb'))\n"
   ]
  },
  {
   "cell_type": "code",
   "execution_count": 65,
   "id": "76fc0cb3",
   "metadata": {},
   "outputs": [
    {
     "data": {
      "text/plain": [
       "array([-3.26057933e-02,  1.09173112e-01, -4.95378971e-02, -2.50302106e-02,\n",
       "        4.39413190e-02,  5.57704680e-02, -1.01618037e-01,  2.91453928e-01,\n",
       "       -3.65166329e-02,  1.89926887e+00, -3.44099961e-02, -1.47595420e-01,\n",
       "        6.94541559e-02,  6.85945898e-02, -1.23440921e-01, -3.41126323e-02,\n",
       "       -4.10271734e-02,  1.40386105e+00, -2.29337186e-01, -5.78262694e-02,\n",
       "        1.98166054e-02, -5.29878139e-02, -5.37974350e-02,  8.42481554e-02,\n",
       "        1.19209640e-01,  6.53674724e-05,  7.48045743e-02,  2.61125285e-02,\n",
       "       -1.71874575e-02,  1.87466905e-01, -1.42906711e-01,  7.95199573e-02,\n",
       "       -1.23316366e-02, -7.43202567e-02,  2.04405338e-01, -1.19356930e-01,\n",
       "        8.59363005e-03, -8.17679539e-02,  7.96529725e-02,  7.76848421e-02,\n",
       "        3.01454850e-02, -7.42799137e-03, -3.35640572e-02,  2.71183904e-02,\n",
       "       -5.54900523e-03, -1.54427320e-01, -1.75522953e-01, -6.12386949e-02,\n",
       "       -1.21798165e-01, -2.84503195e-02,  1.45767048e-01,  2.73254830e-02,\n",
       "       -5.82536273e-02, -1.14518203e-01,  1.29964262e-01, -1.36135325e-01,\n",
       "       -7.13510960e-02, -1.32712379e-01,  1.00327738e-01,  9.84926429e-03,\n",
       "        2.22147346e-01,  3.26386653e-02, -3.47276442e-02,  1.57895848e-01,\n",
       "       -9.89975184e-02, -1.19322166e-02, -1.25270143e-01,  3.92304547e-02,\n",
       "       -7.00283125e-02, -7.82669559e-02,  6.28016964e-02, -1.14167675e-01,\n",
       "        1.01842254e-01, -8.02137852e-02, -1.15208767e-01,  1.65084422e-01,\n",
       "       -3.57370079e-02, -9.01619494e-02,  2.22715527e-01,  2.61094030e-02,\n",
       "       -1.56691313e-01,  1.21054709e-01, -9.74253640e-02, -2.12852471e-02,\n",
       "        1.30339622e-01, -5.06079793e-01, -3.88460338e-01,  4.71526459e-02,\n",
       "        4.78604771e-02,  2.09074736e-01, -2.37689614e-01, -4.70625907e-02,\n",
       "       -1.68068111e-01,  8.39436576e-02, -4.61803749e-02, -4.91563277e-03,\n",
       "        9.63304415e-02, -5.79733588e-02, -3.54256406e-02,  8.29691514e-02,\n",
       "        1.14936151e-01, -5.95163405e-02, -6.10395782e-02,  1.84957311e-02,\n",
       "        6.97415927e-03, -1.42958426e+00,  1.45470221e-02,  4.90192622e-02,\n",
       "       -7.44770467e-02, -3.86560559e-02,  1.13220833e-01, -1.06121317e-01,\n",
       "        3.47446315e-02, -1.61916703e-01,  8.13674182e-02,  5.63879497e-02,\n",
       "        3.01683098e-02,  9.59723666e-02, -1.36475101e-01,  3.70833576e-02,\n",
       "       -9.11528319e-02, -7.83141181e-02, -3.72722857e-02, -8.90767574e-02,\n",
       "        7.30395094e-02,  1.08885746e-02, -7.54810348e-02,  5.79603203e-02,\n",
       "        1.20334625e-01, -8.53187814e-02,  3.37385312e-02,  4.56226319e-02,\n",
       "        7.83791691e-02, -1.38044208e-01,  3.96953635e-02,  1.51871160e-01,\n",
       "       -9.67064202e-02, -1.74575821e-02,  5.18821888e-02, -6.83828741e-02,\n",
       "       -9.65945780e-01, -1.04657553e-01,  1.80878326e-01,  5.17884679e-02,\n",
       "        1.18353941e-01,  9.52631410e-04, -2.77258512e-02,  1.56296253e-01,\n",
       "       -7.42410356e-03, -2.88902922e-03, -7.42520625e-03, -1.04255058e-01,\n",
       "        1.22423135e-01,  1.29669920e-01, -1.28601611e-01, -1.61291081e-02,\n",
       "       -3.29730548e-02,  1.40035003e-01, -7.18777403e-02,  2.89252158e-02,\n",
       "        2.90729851e-01,  1.29691571e-01,  5.60698584e-02,  1.46760613e-01,\n",
       "        4.17817645e-02, -4.92781028e-02,  2.12170154e-01, -1.04902565e-01,\n",
       "        2.84010440e-01,  1.34138674e-01,  8.09745491e-02, -1.27042159e-02,\n",
       "        1.80880517e-01, -1.58145949e-01, -6.32768404e-03,  1.09176310e-02,\n",
       "        9.00020897e-02, -7.46223107e-02, -7.48857856e-02, -1.63729087e-01,\n",
       "        1.87171847e-01,  2.22391542e-02, -4.66472469e-02, -9.88157559e-03,\n",
       "        1.51401237e-02, -1.05944611e-01, -3.31730545e-02, -1.12845533e-01,\n",
       "        7.22093135e-02, -5.93019463e-02, -4.74062236e-03, -6.42161220e-02,\n",
       "       -1.19235992e-01,  1.65523097e-01, -4.79818769e-02,  2.03024998e-01,\n",
       "        7.78399557e-02,  1.02405198e-01, -7.49158263e-02,  1.46056533e-01,\n",
       "       -1.91656649e-01,  3.21178474e-02,  1.75011590e-01,  1.89773932e-01,\n",
       "        1.91518307e-01, -4.63715696e-04,  1.21919058e-01,  2.57910371e-01,\n",
       "        1.09948246e-02, -2.06197888e-01, -2.20089763e-01, -2.80347615e-01,\n",
       "       -1.87629610e-02, -2.22364172e-01, -1.06877066e-01, -4.41079075e-03,\n",
       "        1.82555225e-02, -5.74149527e-02,  7.91122690e-02, -7.68116936e-02,\n",
       "        2.99557354e-02, -5.57489088e-03, -8.80691260e-02, -1.52492806e-01,\n",
       "        5.94567880e-02, -5.31297028e-02,  7.45211095e-02,  1.98498424e-02,\n",
       "       -1.28936514e-01,  1.49108589e-01,  7.45430449e-03, -2.35865805e-02,\n",
       "        4.38218676e-02,  1.32309631e-01,  1.99474227e-02,  9.95773748e-02,\n",
       "       -8.94555822e-02, -1.47146896e-01, -2.16398895e-01, -1.04447052e-01,\n",
       "        9.16387662e-02, -7.60449562e-03, -7.52511472e-02,  6.21499009e-02,\n",
       "        9.42058936e-02, -7.98198953e-02, -2.11078241e-01, -1.17646396e-01,\n",
       "       -1.79126054e-01, -4.73286547e-02, -2.78549884e-02, -1.87303387e-02,\n",
       "        3.61371338e-02, -1.19958661e-01, -8.36855173e-02,  2.50556797e-01,\n",
       "        3.74715426e-03,  1.43877104e-01, -3.84980906e-03,  4.73516285e-02,\n",
       "       -4.16620960e-03,  1.21914372e-01, -1.02093695e-02, -1.68114174e-02,\n",
       "        7.69954324e-02, -2.60983050e-01, -2.14580655e-01,  1.59313813e-01,\n",
       "        3.02112669e-01,  1.40716493e-01,  5.06430957e-03,  5.86907938e-02,\n",
       "       -9.01058987e-02, -3.28600146e-02, -1.59343436e-01, -4.91170660e-02,\n",
       "       -9.99306217e-02,  1.18623115e-01,  1.77150574e-02,  8.38089213e-02,\n",
       "        9.43118036e-02, -1.39176100e-01, -4.40168977e-02,  3.06519400e-02,\n",
       "       -1.24282911e-01, -1.90503836e-01,  2.59317815e-01, -1.62909180e-01,\n",
       "        1.14538215e-01, -2.74792127e-02, -2.84712851e-01,  8.08002651e-02,\n",
       "        9.26054642e-02, -4.47235256e-02, -4.16553542e-02,  1.45003945e-01,\n",
       "        2.41261013e-02,  1.00170419e-01, -1.56903461e-01, -1.16786055e-01],\n",
       "      dtype=float32)"
      ]
     },
     "execution_count": 65,
     "metadata": {},
     "output_type": "execute_result"
    }
   ],
   "source": [
    "sentence = \"the worlds oceans their temperature chemistry currents and life drive global systems that make the earth habitable for humankind\"\n",
    "\n",
    "vec = get_vec(sentence)\n",
    "vec"
   ]
  },
  {
   "cell_type": "code",
   "execution_count": 66,
   "id": "e58b8319",
   "metadata": {},
   "outputs": [
    {
     "data": {
      "text/plain": [
       "array([14], dtype=int64)"
      ]
     },
     "execution_count": 66,
     "metadata": {},
     "output_type": "execute_result"
    }
   ],
   "source": [
    "model.predict(vec.reshape(1, -1))"
   ]
  },
  {
   "cell_type": "code",
   "execution_count": 67,
   "id": "7c53c21a",
   "metadata": {},
   "outputs": [],
   "source": [
    "df2 = pd.read_csv('val_set_sdg_1_7_8_12_13_toy.csv')"
   ]
  },
  {
   "cell_type": "code",
   "execution_count": 70,
   "id": "137ac890",
   "metadata": {},
   "outputs": [],
   "source": [
    "df2 = df2[['abstract','sdg_id']]"
   ]
  },
  {
   "cell_type": "code",
   "execution_count": 82,
   "id": "b6782426",
   "metadata": {},
   "outputs": [
    {
     "data": {
      "text/plain": [
       "'this study examines the challenges that recent college graduates face in a hard-hit us region during the great recession'"
      ]
     },
     "execution_count": 82,
     "metadata": {},
     "output_type": "execute_result"
    }
   ],
   "source": []
  },
  {
   "cell_type": "code",
   "execution_count": 83,
   "id": "9abaf57c",
   "metadata": {},
   "outputs": [
    {
     "name": "stdout",
     "output_type": "stream",
     "text": [
      "this study examines the challenges that recent college graduates face in a hard-hit us region during the great recession\n"
     ]
    },
    {
     "data": {
      "text/plain": [
       "array([-3.32921110e-02,  1.64053425e-01,  4.52050902e-02,  5.10878973e-02,\n",
       "        1.39066964e-01, -1.30030423e-01, -3.96095887e-02,  1.52444139e-01,\n",
       "        9.68620554e-02,  2.54028630e+00, -2.83333570e-01, -7.06118643e-02,\n",
       "        9.73857269e-02, -7.58929476e-02,  1.87340975e-02,  5.06655499e-03,\n",
       "        1.46654276e-02,  1.00508606e+00, -1.52974054e-01, -8.74854304e-05,\n",
       "        4.76050898e-02, -1.51956424e-01,  3.06519493e-02, -4.84079532e-02,\n",
       "        6.21650405e-02,  7.59190917e-02,  1.92214479e-03,  1.51302606e-01,\n",
       "       -1.80323631e-01,  5.13542145e-02, -9.44124982e-02,  1.03282824e-01,\n",
       "       -8.22580904e-02, -1.55418053e-01,  2.25093663e-01,  3.97330970e-02,\n",
       "        3.15382592e-02, -9.68629587e-03, -3.54588889e-02, -1.66158393e-01,\n",
       "       -7.24428450e-04,  8.45139101e-02, -7.91781116e-03, -8.34692866e-02,\n",
       "       -7.95729980e-02,  8.16960409e-02, -7.05227628e-02,  4.35886383e-02,\n",
       "        1.42216170e-02, -6.32526502e-02, -1.10304654e-01,  1.25802577e-01,\n",
       "       -2.16859486e-02, -6.35493845e-02, -9.35685448e-03,  3.55159044e-02,\n",
       "       -1.05023349e-03, -2.88552158e-02, -2.79810037e-02, -1.71590135e-01,\n",
       "       -1.25146687e-01, -5.70808761e-02, -3.69139612e-02,  2.19936073e-01,\n",
       "        1.90445259e-01, -9.01552066e-02,  3.03767119e-02,  7.03543425e-02,\n",
       "        1.11931577e-01,  3.57681096e-01,  1.04065962e-01, -4.85795327e-02,\n",
       "        4.41547446e-02,  5.48353717e-02, -4.46186587e-02,  3.08778547e-02,\n",
       "        1.70397498e-02, -4.45321351e-02, -1.31112948e-01,  1.22819811e-01,\n",
       "        1.21444352e-01,  1.85956538e-01, -2.68974304e-02,  5.73651046e-02,\n",
       "        8.66158605e-02, -1.69447586e-01, -4.35548335e-01, -1.00510657e-01,\n",
       "        1.85229499e-02,  9.74286273e-02, -8.83001909e-02,  5.11253402e-02,\n",
       "       -3.20164859e-02,  5.50764278e-02, -1.32662058e-03, -3.61001771e-03,\n",
       "        7.19100796e-03, -2.72409115e-02,  1.49665326e-01, -5.47465645e-02,\n",
       "       -7.10428273e-03, -8.69870535e-04, -2.45877169e-02, -8.97880644e-03,\n",
       "        5.24695255e-02, -7.86990941e-01, -3.33734974e-02, -7.01433700e-03,\n",
       "        4.40184288e-02, -1.00162521e-01,  1.09592095e-01, -1.57606095e-01,\n",
       "        3.07871518e-03, -7.57574663e-02, -7.57289976e-02, -5.57439029e-02,\n",
       "        9.30333324e-03,  1.58749864e-01, -1.95605662e-02, -2.19858978e-02,\n",
       "        7.65972733e-02, -4.35439833e-02, -1.52908728e-01, -2.97726188e-02,\n",
       "       -2.03637430e-03,  4.90044169e-02, -2.52084229e-02, -5.62493354e-02,\n",
       "        6.61291257e-02,  3.59121412e-02,  9.24074277e-02, -9.24051926e-02,\n",
       "        6.04774319e-02,  7.99009949e-02,  1.07811280e-01,  3.15837339e-02,\n",
       "       -1.13409668e-01,  4.13063318e-02, -6.53246194e-02, -3.18577848e-02,\n",
       "       -9.07806695e-01, -1.77325774e-02,  9.14419070e-02,  6.17750548e-02,\n",
       "       -1.15854787e-02, -1.00122198e-01, -7.63263106e-02,  1.54423058e-01,\n",
       "        4.21629548e-02,  3.72415707e-02, -1.28011435e-01,  1.22934185e-01,\n",
       "        3.74054164e-02, -8.78191786e-04, -6.61081076e-02, -3.13170142e-02,\n",
       "       -2.84381453e-02,  1.32206440e-01, -1.27755344e-01, -2.26065859e-01,\n",
       "        6.12213798e-02,  9.76684764e-02, -2.58017089e-02, -1.04254134e-01,\n",
       "       -1.70885086e-01, -3.92235667e-02,  2.82536205e-02, -1.07001498e-01,\n",
       "        1.89990833e-01, -7.82170743e-02,  4.47922200e-02, -5.98540418e-02,\n",
       "       -2.99147628e-02, -4.99375202e-02, -1.51051963e-02, -6.31064596e-03,\n",
       "        2.80184709e-02,  6.73057651e-03,  6.21363781e-02, -1.14405239e-02,\n",
       "       -1.37831703e-01,  5.04558943e-02, -5.63251972e-03,  7.48595595e-02,\n",
       "        7.42887631e-02, -1.43017797e-02, -3.68861370e-02,  5.98709024e-02,\n",
       "        7.89506827e-03, -6.57682866e-02, -5.17398119e-02, -6.09569997e-02,\n",
       "       -7.28622749e-02,  1.15678437e-01,  1.94359627e-02,  4.65404615e-02,\n",
       "       -1.56151457e-02,  3.55858181e-04,  5.89275500e-03,  8.89879316e-02,\n",
       "       -1.12276571e-02, -5.14489524e-02, -6.16029091e-02,  9.11984127e-03,\n",
       "        9.93713289e-02, -1.27063334e-01,  2.67989431e-02,  2.89604208e-03,\n",
       "       -1.48978690e-02,  6.55282810e-02, -5.87443300e-02,  1.34555241e-02,\n",
       "       -1.66771010e-01, -2.30529010e-01,  1.63119026e-02,  1.32397488e-01,\n",
       "       -1.33135587e-01, -9.72443074e-03, -6.74742386e-02, -1.68694258e-02,\n",
       "        1.65662542e-02, -6.87391162e-02, -2.00043470e-01, -3.13412845e-02,\n",
       "        5.13808057e-02, -8.77290890e-02,  3.70311029e-02,  3.84834222e-02,\n",
       "        1.11360334e-01,  5.77364862e-02, -8.17394257e-02,  1.08769745e-01,\n",
       "        3.52002308e-02,  2.96399966e-02, -1.36961058e-01, -1.81676410e-02,\n",
       "       -1.26420721e-01, -1.36481419e-01, -6.32857606e-02,  8.44798684e-02,\n",
       "        5.54052368e-02, -3.12592350e-02, -7.20688840e-03,  8.65621567e-02,\n",
       "        9.35337618e-02, -1.22261107e-01, -4.54662107e-02, -3.74215618e-02,\n",
       "       -3.91412415e-02,  5.16336188e-02,  1.16121452e-02, -1.01474847e-03,\n",
       "        3.92635260e-03, -1.07876606e-01,  1.87391024e-02,  8.13384280e-02,\n",
       "        8.32366273e-02,  2.91094780e-02, -6.82628574e-03,  5.03014252e-02,\n",
       "        1.04029670e-01,  2.21063212e-01,  1.59828588e-02,  2.74632368e-02,\n",
       "        8.44158977e-02, -2.27417082e-01, -1.92520041e-02,  3.72208245e-02,\n",
       "        2.75379777e-01,  7.40045030e-03, -3.18630449e-02,  3.19706649e-02,\n",
       "       -1.01223208e-01, -2.54871219e-01, -3.93471457e-02, -2.14734338e-02,\n",
       "       -2.42390968e-02,  1.30699679e-01,  4.13768180e-02,  1.92846954e-01,\n",
       "        2.69428883e-02,  4.09038961e-02, -2.07338244e-01,  1.80368517e-02,\n",
       "        3.80209833e-02, -2.21656367e-01,  2.22017378e-01, -1.32796377e-01,\n",
       "        5.85803315e-02, -6.35062009e-02, -1.73589766e-01,  1.60663962e-01,\n",
       "        4.70394976e-02, -1.62054941e-01, -2.35435739e-02, -3.25096697e-02,\n",
       "       -5.13506681e-02,  4.17819060e-02,  2.64409948e-02,  2.59876112e-03],\n",
       "      dtype=float32)"
      ]
     },
     "execution_count": 83,
     "metadata": {},
     "output_type": "execute_result"
    }
   ],
   "source": [
    "sentence2 = df2['abstract'][0].lower()\n",
    "sen2 = sentence2.split(\".\")[0]\n",
    "vec2 = get_vec(sen2)\n",
    "print(sen2)\n",
    "vec2"
   ]
  },
  {
   "cell_type": "code",
   "execution_count": 84,
   "id": "d968e895",
   "metadata": {},
   "outputs": [
    {
     "data": {
      "text/plain": [
       "array([4], dtype=int64)"
      ]
     },
     "execution_count": 84,
     "metadata": {},
     "output_type": "execute_result"
    }
   ],
   "source": [
    "model.predict(vec2.reshape(1, -1))"
   ]
  },
  {
   "cell_type": "code",
   "execution_count": null,
   "id": "6f7d11c7",
   "metadata": {},
   "outputs": [],
   "source": []
  }
 ],
 "metadata": {
  "kernelspec": {
   "display_name": "Python 3.8 Torch",
   "language": "python",
   "name": "torch"
  },
  "language_info": {
   "codemirror_mode": {
    "name": "ipython",
    "version": 3
   },
   "file_extension": ".py",
   "mimetype": "text/x-python",
   "name": "python",
   "nbconvert_exporter": "python",
   "pygments_lexer": "ipython3",
   "version": "3.8.8"
  }
 },
 "nbformat": 4,
 "nbformat_minor": 5
}
