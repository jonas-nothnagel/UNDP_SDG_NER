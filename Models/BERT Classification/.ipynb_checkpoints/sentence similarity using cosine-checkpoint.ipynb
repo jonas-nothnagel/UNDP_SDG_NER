{
 "cells": [
  {
   "cell_type": "code",
   "execution_count": 6,
   "id": "d95ff91c",
   "metadata": {},
   "outputs": [],
   "source": [
    "import pandas as pd\n",
    "from sentence_transformers import SentenceTransformer"
   ]
  },
  {
   "cell_type": "code",
   "execution_count": null,
   "id": "7eda32f0",
   "metadata": {},
   "outputs": [],
   "source": [
    "random_seed = 777\n",
    "device = torch.device('cuda:0' if torch.cuda.is_available() else 'cpu')\n",
    "print(device)"
   ]
  },
  {
   "cell_type": "code",
   "execution_count": 2,
   "id": "c961fff1",
   "metadata": {},
   "outputs": [],
   "source": [
    "df = pd.read_csv('17SDGpt2_tweets.csv', lineterminator='\\n', index_col = 0)"
   ]
  },
  {
   "cell_type": "code",
   "execution_count": 3,
   "id": "35058bb4",
   "metadata": {},
   "outputs": [
    {
     "data": {
      "text/html": [
       "<div>\n",
       "<style scoped>\n",
       "    .dataframe tbody tr th:only-of-type {\n",
       "        vertical-align: middle;\n",
       "    }\n",
       "\n",
       "    .dataframe tbody tr th {\n",
       "        vertical-align: top;\n",
       "    }\n",
       "\n",
       "    .dataframe thead th {\n",
       "        text-align: right;\n",
       "    }\n",
       "</style>\n",
       "<table border=\"1\" class=\"dataframe\">\n",
       "  <thead>\n",
       "    <tr style=\"text-align: right;\">\n",
       "      <th></th>\n",
       "      <th>tweet</th>\n",
       "      <th>sdg</th>\n",
       "      <th>tweet_len</th>\n",
       "    </tr>\n",
       "  </thead>\n",
       "  <tbody>\n",
       "    <tr>\n",
       "      <th>0</th>\n",
       "      <td>our spousal sponsorship application sent to th...</td>\n",
       "      <td>16</td>\n",
       "      <td>147</td>\n",
       "    </tr>\n",
       "    <tr>\n",
       "      <th>1</th>\n",
       "      <td>Star Wars The Vintage Collection VC186 Boba Fe...</td>\n",
       "      <td>16</td>\n",
       "      <td>148</td>\n",
       "    </tr>\n",
       "    <tr>\n",
       "      <th>2</th>\n",
       "      <td>CDS is hiring a Team Lead for our Delivery Pol...</td>\n",
       "      <td>16</td>\n",
       "      <td>246</td>\n",
       "    </tr>\n",
       "    <tr>\n",
       "      <th>3</th>\n",
       "      <td>@JonathanTurley Was watching him on @AlisynCam...</td>\n",
       "      <td>16</td>\n",
       "      <td>135</td>\n",
       "    </tr>\n",
       "    <tr>\n",
       "      <th>4</th>\n",
       "      <td>@chasestrangio @TheElliotPage As written, xiv ...</td>\n",
       "      <td>16</td>\n",
       "      <td>303</td>\n",
       "    </tr>\n",
       "    <tr>\n",
       "      <th>...</th>\n",
       "      <td>...</td>\n",
       "      <td>...</td>\n",
       "      <td>...</td>\n",
       "    </tr>\n",
       "    <tr>\n",
       "      <th>162355</th>\n",
       "      <td>@stokiein @Anna_Soubry @mrjamesob @BorisJohnso...</td>\n",
       "      <td>17</td>\n",
       "      <td>267</td>\n",
       "    </tr>\n",
       "    <tr>\n",
       "      <th>162356</th>\n",
       "      <td>To be  a guest for what ? How to smoke crack!o...</td>\n",
       "      <td>17</td>\n",
       "      <td>235</td>\n",
       "    </tr>\n",
       "    <tr>\n",
       "      <th>162357</th>\n",
       "      <td>MBA Alumni Association announces an official c...</td>\n",
       "      <td>17</td>\n",
       "      <td>210</td>\n",
       "    </tr>\n",
       "    <tr>\n",
       "      <th>162358</th>\n",
       "      <td>They're feeling it as far away as Australia.\\n...</td>\n",
       "      <td>17</td>\n",
       "      <td>279</td>\n",
       "    </tr>\n",
       "    <tr>\n",
       "      <th>162359</th>\n",
       "      <td>@dannynoonan6969 @SarahJo23672889 @TucsonZia @...</td>\n",
       "      <td>17</td>\n",
       "      <td>337</td>\n",
       "    </tr>\n",
       "  </tbody>\n",
       "</table>\n",
       "<p>162360 rows × 3 columns</p>\n",
       "</div>"
      ],
      "text/plain": [
       "                                                    tweet  sdg  tweet_len\n",
       "0       our spousal sponsorship application sent to th...   16        147\n",
       "1       Star Wars The Vintage Collection VC186 Boba Fe...   16        148\n",
       "2       CDS is hiring a Team Lead for our Delivery Pol...   16        246\n",
       "3       @JonathanTurley Was watching him on @AlisynCam...   16        135\n",
       "4       @chasestrangio @TheElliotPage As written, xiv ...   16        303\n",
       "...                                                   ...  ...        ...\n",
       "162355  @stokiein @Anna_Soubry @mrjamesob @BorisJohnso...   17        267\n",
       "162356  To be  a guest for what ? How to smoke crack!o...   17        235\n",
       "162357  MBA Alumni Association announces an official c...   17        210\n",
       "162358  They're feeling it as far away as Australia.\\n...   17        279\n",
       "162359  @dannynoonan6969 @SarahJo23672889 @TucsonZia @...   17        337\n",
       "\n",
       "[162360 rows x 3 columns]"
      ]
     },
     "execution_count": 3,
     "metadata": {},
     "output_type": "execute_result"
    }
   ],
   "source": [
    "df"
   ]
  },
  {
   "cell_type": "code",
   "execution_count": null,
   "id": "d6023e1a",
   "metadata": {},
   "outputs": [
    {
     "data": {
      "application/vnd.jupyter.widget-view+json": {
       "model_id": "4616829b7a1a48d9b59625f8f53c18c1",
       "version_major": 2,
       "version_minor": 0
      },
      "text/plain": [
       "  0%|          | 0.00/405M [00:00<?, ?B/s]"
      ]
     },
     "metadata": {},
     "output_type": "display_data"
    }
   ],
   "source": [
    "model = SentenceTransformer('bert-base-nli-mean-tokens')"
   ]
  },
  {
   "cell_type": "code",
   "execution_count": null,
   "id": "54cf3bdc",
   "metadata": {},
   "outputs": [],
   "source": []
  }
 ],
 "metadata": {
  "kernelspec": {
   "display_name": "Python 3.8 Torch",
   "language": "python",
   "name": "torch"
  },
  "language_info": {
   "codemirror_mode": {
    "name": "ipython",
    "version": 3
   },
   "file_extension": ".py",
   "mimetype": "text/x-python",
   "name": "python",
   "nbconvert_exporter": "python",
   "pygments_lexer": "ipython3",
   "version": "3.8.8"
  }
 },
 "nbformat": 4,
 "nbformat_minor": 5
}
