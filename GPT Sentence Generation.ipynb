{
 "cells": [
  {
   "cell_type": "code",
   "execution_count": 39,
   "metadata": {},
   "outputs": [],
   "source": [
    "import pandas as pd\n",
    "from transformers import pipeline, set_seed\n",
    "import pickle\n",
    "pd.set_option('display.max_colwidth', None)\n",
    "from tqdm import tqdm\n",
    "set_seed(42)"
   ]
  },
  {
   "cell_type": "code",
   "execution_count": 49,
   "metadata": {},
   "outputs": [
    {
     "name": "stdout",
     "output_type": "stream",
     "text": [
      "Help on function pipeline in module transformers.pipelines:\n",
      "\n",
      "pipeline(task: str, model: Optional = None, config: Union[str, transformers.configuration_utils.PretrainedConfig, NoneType] = None, tokenizer: Union[str, transformers.tokenization_utils.PreTrainedTokenizer, NoneType] = None, framework: Union[str, NoneType] = None, revision: Union[str, NoneType] = None, use_fast: bool = True, use_auth_token: Union[str, bool, NoneType] = None, model_kwargs: Dict[str, Any] = {'use_auth_token': None}, **kwargs) -> transformers.pipelines.base.Pipeline\n",
      "    Utility factory method to build a :class:`~transformers.Pipeline`.\n",
      "    \n",
      "    Pipelines are made of:\n",
      "    \n",
      "        - A :doc:`tokenizer <tokenizer>` in charge of mapping raw textual input to token.\n",
      "        - A :doc:`model <model>` to make predictions from the inputs.\n",
      "        - Some (optional) post processing for enhancing model's output.\n",
      "    \n",
      "    Args:\n",
      "        task (:obj:`str`):\n",
      "            The task defining which pipeline will be returned. Currently accepted tasks are:\n",
      "    \n",
      "            - :obj:`\"feature-extraction\"`: will return a :class:`~transformers.FeatureExtractionPipeline`.\n",
      "            - :obj:`\"sentiment-analysis\"`: will return a :class:`~transformers.TextClassificationPipeline`.\n",
      "            - :obj:`\"ner\"`: will return a :class:`~transformers.TokenClassificationPipeline`.\n",
      "            - :obj:`\"question-answering\"`: will return a :class:`~transformers.QuestionAnsweringPipeline`.\n",
      "            - :obj:`\"fill-mask\"`: will return a :class:`~transformers.FillMaskPipeline`.\n",
      "            - :obj:`\"summarization\"`: will return a :class:`~transformers.SummarizationPipeline`.\n",
      "            - :obj:`\"translation_xx_to_yy\"`: will return a :class:`~transformers.TranslationPipeline`.\n",
      "            - :obj:`\"text2text-generation\"`: will return a :class:`~transformers.Text2TextGenerationPipeline`.\n",
      "            - :obj:`\"text-generation\"`: will return a :class:`~transformers.TextGenerationPipeline`.\n",
      "            - :obj:`\"zero-shot-classification:`: will return a :class:`~transformers.ZeroShotClassificationPipeline`.\n",
      "            - :obj:`\"conversational\"`: will return a :class:`~transformers.ConversationalPipeline`.\n",
      "        model (:obj:`str` or :obj:`~transformers.PreTrainedModel` or :obj:`~transformers.TFPreTrainedModel`, `optional`):\n",
      "            The model that will be used by the pipeline to make predictions. This can be a model identifier or an\n",
      "            actual instance of a pretrained model inheriting from :class:`~transformers.PreTrainedModel` (for PyTorch)\n",
      "            or :class:`~transformers.TFPreTrainedModel` (for TensorFlow).\n",
      "    \n",
      "            If not provided, the default for the :obj:`task` will be loaded.\n",
      "        config (:obj:`str` or :obj:`~transformers.PretrainedConfig`, `optional`):\n",
      "            The configuration that will be used by the pipeline to instantiate the model. This can be a model\n",
      "            identifier or an actual pretrained model configuration inheriting from\n",
      "            :class:`~transformers.PretrainedConfig`.\n",
      "    \n",
      "            If not provided, the default configuration file for the requested model will be used. That means that if\n",
      "            :obj:`model` is given, its default configuration will be used. However, if :obj:`model` is not supplied,\n",
      "            this :obj:`task`'s default model's config is used instead.\n",
      "        tokenizer (:obj:`str` or :obj:`~transformers.PreTrainedTokenizer`, `optional`):\n",
      "            The tokenizer that will be used by the pipeline to encode data for the model. This can be a model\n",
      "            identifier or an actual pretrained tokenizer inheriting from :class:`~transformers.PreTrainedTokenizer`.\n",
      "    \n",
      "            If not provided, the default tokenizer for the given :obj:`model` will be loaded (if it is a string). If\n",
      "            :obj:`model` is not specified or not a string, then the default tokenizer for :obj:`config` is loaded (if\n",
      "            it is a string). However, if :obj:`config` is also not given or not a string, then the default tokenizer\n",
      "            for the given :obj:`task` will be loaded.\n",
      "        framework (:obj:`str`, `optional`):\n",
      "            The framework to use, either :obj:`\"pt\"` for PyTorch or :obj:`\"tf\"` for TensorFlow. The specified framework\n",
      "            must be installed.\n",
      "    \n",
      "            If no framework is specified, will default to the one currently installed. If no framework is specified and\n",
      "            both frameworks are installed, will default to the framework of the :obj:`model`, or to PyTorch if no model\n",
      "            is provided.\n",
      "        revision(:obj:`str`, `optional`, defaults to :obj:`\"main\"`):\n",
      "            When passing a task name or a string model identifier: The specific model version to use. It can be a\n",
      "            branch name, a tag name, or a commit id, since we use a git-based system for storing models and other\n",
      "            artifacts on huggingface.co, so ``revision`` can be any identifier allowed by git.\n",
      "        use_fast (:obj:`bool`, `optional`, defaults to :obj:`True`):\n",
      "            Whether or not to use a Fast tokenizer if possible (a :class:`~transformers.PreTrainedTokenizerFast`).\n",
      "        use_auth_token (:obj:`str` or `bool`, `optional`):\n",
      "            The token to use as HTTP bearer authorization for remote files. If :obj:`True`, will use the token\n",
      "            generated when running :obj:`transformers-cli login` (stored in :obj:`~/.huggingface`).\n",
      "            revision(:obj:`str`, `optional`, defaults to :obj:`\"main\"`):\n",
      "        model_kwargs:\n",
      "            Additional dictionary of keyword arguments passed along to the model's :obj:`from_pretrained(...,\n",
      "            **model_kwargs)` function.\n",
      "        kwargs:\n",
      "            Additional keyword arguments passed along to the specific pipeline init (see the documentation for the\n",
      "            corresponding pipeline class for possible values).\n",
      "    \n",
      "    Returns:\n",
      "        :class:`~transformers.Pipeline`: A suitable pipeline for the task.\n",
      "    \n",
      "    Examples::\n",
      "    \n",
      "        >>> from transformers import pipeline, AutoModelForTokenClassification, AutoTokenizer\n",
      "    \n",
      "        >>> # Sentiment analysis pipeline\n",
      "        >>> pipeline('sentiment-analysis')\n",
      "    \n",
      "        >>> # Question answering pipeline, specifying the checkpoint identifier\n",
      "        >>> pipeline('question-answering', model='distilbert-base-cased-distilled-squad', tokenizer='bert-base-cased')\n",
      "    \n",
      "        >>> # Named entity recognition pipeline, passing in a specific model and tokenizer\n",
      "        >>> model = AutoModelForTokenClassification.from_pretrained(\"dbmdz/bert-large-cased-finetuned-conll03-english\")\n",
      "        >>> tokenizer = AutoTokenizer.from_pretrained(\"bert-base-cased\")\n",
      "        >>> pipeline('ner', model=model, tokenizer=tokenizer)\n",
      "\n"
     ]
    }
   ],
   "source": [
    "help(pipeline)"
   ]
  },
  {
   "cell_type": "code",
   "execution_count": 2,
   "metadata": {},
   "outputs": [],
   "source": [
    "generator = pipeline('text-generation', model='EleutherAI/gpt-neo-2.7B')\n",
    "generatorgpt2 = pipeline('text-generation', model='gpt2')\n",
    "df = pd.read_csv('Ontology_final.csv', sep=';')"
   ]
  },
  {
   "cell_type": "code",
   "execution_count": 52,
   "metadata": {},
   "outputs": [
    {
     "data": {
      "application/vnd.jupyter.widget-view+json": {
       "model_id": "92fc1ed8e27f4f57a1ff56850ac3357a",
       "version_major": 2,
       "version_minor": 0
      },
      "text/plain": [
       "Downloading:   0%|          | 0.00/760 [00:00<?, ?B/s]"
      ]
     },
     "metadata": {},
     "output_type": "display_data"
    },
    {
     "data": {
      "application/vnd.jupyter.widget-view+json": {
       "model_id": "7851e7e0ee674a24abfa9a8dd0051307",
       "version_major": 2,
       "version_minor": 0
      },
      "text/plain": [
       "Downloading:   0%|          | 0.00/467M [00:00<?, ?B/s]"
      ]
     },
     "metadata": {},
     "output_type": "display_data"
    },
    {
     "data": {
      "application/vnd.jupyter.widget-view+json": {
       "model_id": "d508a2c20a594e7f929f1e6e6fb9efd7",
       "version_major": 2,
       "version_minor": 0
      },
      "text/plain": [
       "Downloading:   0%|          | 0.00/798k [00:00<?, ?B/s]"
      ]
     },
     "metadata": {},
     "output_type": "display_data"
    },
    {
     "data": {
      "application/vnd.jupyter.widget-view+json": {
       "model_id": "cada15204c7747f59f3da78f7975bfff",
       "version_major": 2,
       "version_minor": 0
      },
      "text/plain": [
       "Downloading:   0%|          | 0.00/1.38M [00:00<?, ?B/s]"
      ]
     },
     "metadata": {},
     "output_type": "display_data"
    }
   ],
   "source": [
    "generator3 = pipeline('text-generation', model = 'xlnet-base-cased')"
   ]
  },
  {
   "cell_type": "code",
   "execution_count": 53,
   "metadata": {},
   "outputs": [
    {
     "name": "stderr",
     "output_type": "stream",
     "text": [
      "100%|███████████████████████████████████████████████████████████████████████████| 4122/4122 [98:55:19<00:00, 86.39s/it]\n"
     ]
    }
   ],
   "source": [
    "xlnet_sentence_list = []\n",
    "for idx in tqdm(range(len(df))):\n",
    "    keyword = df['keyword'][idx]\n",
    "    gen_sen = generator3(keyword, min_length = 100, num_return_sequences = 20, device = 0)\n",
    "    xlnet_sentence_list.append(gen_sen)"
   ]
  },
  {
   "cell_type": "code",
   "execution_count": 38,
   "metadata": {},
   "outputs": [],
   "source": [
    "# gptneo_sentence_list = []\n",
    "# for idx in tqdm(range(len(df))):\n",
    "#     keyword = df['keyword'][idx]\n",
    "#     gen_sen = generator(keyword, min_length=100,\n",
    "#           num_return_sequences=20, device = 0)\n",
    "#     gptneo_sentence_list.append(gen_sen)"
   ]
  },
  {
   "cell_type": "code",
   "execution_count": 40,
   "metadata": {},
   "outputs": [],
   "source": [
    "# gpt2_sentence_list = []\n",
    "# for idx in tqdm(range(len(df))):\n",
    "#     keyword = df['keyword'][idx]\n",
    "#     gpt2_sentence_list.append(generatorgpt2(keyword, min_length=100,\n",
    "#                                             num_return_sequences=20, device = 0))"
   ]
  },
  {
   "cell_type": "code",
   "execution_count": 29,
   "metadata": {},
   "outputs": [],
   "source": [
    "# df['gpt2_sentences'] = gpt2_sentence_list\n",
    "# df['gpt_neosentences'] = sentence_list"
   ]
  },
  {
   "cell_type": "code",
   "execution_count": 54,
   "metadata": {},
   "outputs": [],
   "source": [
    "filename3 = 'UNDP_SDG_Sentences.sav'\n",
    "pickle.dump(xlnet_sentence_list, open(filename3, 'wb'))"
   ]
  },
  {
   "cell_type": "code",
   "execution_count": 55,
   "metadata": {},
   "outputs": [],
   "source": [
    "df['xlnet_sentences'] = xlnet_sentence_list"
   ]
  },
  {
   "cell_type": "code",
   "execution_count": 57,
   "metadata": {},
   "outputs": [],
   "source": [
    "df.to_json('UNDP_SDG_SentencesGPT2-NEO-Xlnet.json')"
   ]
  },
  {
   "cell_type": "code",
   "execution_count": 32,
   "metadata": {},
   "outputs": [],
   "source": [
    "# save the model to disk\n",
    "filename = 'UNDP_SDG_SentencesGPT-NEO.sav'\n",
    "filename2 = 'UNDP_SDG_SetencesGPT-2.sav'\n",
    "pickle.dump(sentence_list, open(filename, 'wb'))\n",
    "pickle.dump(gpt2_sentence_list, open(filename2, 'wb'))"
   ]
  },
  {
   "cell_type": "code",
   "execution_count": 34,
   "metadata": {},
   "outputs": [],
   "source": [
    "df.to_json('UNDP_Sentence_GPT_Generation.json')"
   ]
  },
  {
   "cell_type": "code",
   "execution_count": 59,
   "metadata": {},
   "outputs": [
    {
     "data": {
      "text/plain": [
       "[{'generated_text': \"absolute poverty.\\n\\nWith its population of only 13,000 people, the tiny southern city of Potsdam is one of the largest in Europe and the only capital of the former East Timor nation. It is still home to the world's\"},\n",
       " {'generated_text': 'absolute poverty for its population, the cost of an entire city will come at least three times its initial level of cost. The value of this initial cost will be measured in terms of how far it will go in terms of total cost (it will be'},\n",
       " {'generated_text': 'absolute poverty\" from the lack of jobs and education in the developed and less developed region (Tobin 1988). Of course, this is all part of the \"new\" neoliberal strategy. It\\'s the same old thing, except different people are working on'},\n",
       " {'generated_text': 'absolute poverty rate among the elderly, however.\\n\\n\"It was not an issue for the young people who have been able to move in and move to the city centre for a longer period and the young people who haven\\'t,\" Rolf says.'},\n",
       " {'generated_text': 'absolute poverty rate of 17 percent, and, on paper, could make it the most expensive state in the nation, after New London.\\n\\nAdvertisement Continue reading the main story\\n\\nThe state in the United States, the second poorest nation on earth'},\n",
       " {'generated_text': 'absolute poverty\" that has been \"expressed and normalized\" by many countries with high-quality educational outcomes, that\\'s a symptom of a social situation that is extremely different from any of those we have experienced previously.\\n\\nThose are real problems,'},\n",
       " {'generated_text': 'absolute poverty) and economic growth; to achieve such a goal, we need the full range of the two-tiered system to be implemented, including measures to implement various measures that would benefit ordinary people. We want to make it easier to find solutions'},\n",
       " {'generated_text': \"absolute poverty.\\n\\nThe first couple of days have been rough too. During the weekend one can get into problems at work, so we've been having to get extra help from our staff. That's been an emotional time over the course of the\"},\n",
       " {'generated_text': \"absolute poverty levels had risen by 0.17 percentage points over a two-year period. On July 25, 2005, there should have been at least a 1.2 percentage point increase in the world's minimum wage.\\n\\nOf course, not\"},\n",
       " {'generated_text': \"absolute poverty and the high unemployment rates) but there's little need to be worried about one of its possible causes at all: the rising prices of housing. And because rents are higher in parts of Brooklyn, and thus more expensive to build, it's\"},\n",
       " {'generated_text': 'absolute poverty rate. According to GESI data, India has a median household income of Rs.1,120 which is below the national average. The gap is due to the relative deprivation of the workforce, lower wages, and low productivity. Since'},\n",
       " {'generated_text': \"absolute poverty'. With every passing year we realise the need for greater social mobility as the economic insecurity and debt burden of low incomes and the fact that the quality of the human condition is also changing as workers continue to shift to work. The main purpose of\"},\n",
       " {'generated_text': 'absolute poverty.\" And as you can see, the report indicates a lot of the country\\'s poor are living in near-perfect health, with the average level of health-insurance coverage rising to 63.8 percent (the year of the survey);'},\n",
       " {'generated_text': 'absolute poverty\" of 30%, even though poverty accounted for only 10% of his political support.\\n\\n\"The people of Afghanistan are starving. People are being killed in cold blood. How about a full day of rationing at the camps? The'},\n",
       " {'generated_text': 'absolute poverty\" is such a clear mark that even the most ardent critics of such a measure must be held on its own terms.\\n\\nWhat about the economic development of the poor in Africa?\\n\\nWhen it comes to Africa we now consider the'},\n",
       " {'generated_text': 'absolute poverty\". This means that, while the poor might be \"caring for everyone\" via their children\\'s food, the poor are \"caring only for the poor, the underprivileged, and those in the middle\".\\n\\nThe new'},\n",
       " {'generated_text': 'absolute poverty\" - that is, the cost to the US economy of paying its debts to the private lenders.\\n\\n\"This policy would increase the debt burden on the US government by a factor of several trillion dollars,\" the IMF said. \"But'},\n",
       " {'generated_text': 'absolute poverty-level is lower than most studies of the population. Although the number of children born to immigrants fell from 13.5 million in 1945 to 12 million in 1967, this increased proportion was much higher (12%). Children from non-southern'},\n",
       " {'generated_text': \"absolute poverty).\\n\\nMore data are available, including results for non-citizen women, and for women reporting to employers regarding their financial circumstances. For more information about job experience, see our Job Experience Data Analysis\\n\\nHow does a woman's\"},\n",
       " {'generated_text': 'absolute poverty rate (P=0.041, SPSS–SPSS II). A similar group of studies reported a higher incidence rates for sub-Saharan African migrants; a lower ratio (P=0.0008) and the higher'}]"
      ]
     },
     "execution_count": 59,
     "metadata": {},
     "output_type": "execute_result"
    }
   ],
   "source": [
    "df['gpt2_sentences'][1]"
   ]
  },
  {
   "cell_type": "code",
   "execution_count": 60,
   "metadata": {},
   "outputs": [
    {
     "data": {
      "text/plain": [
       "[{'generated_text': 'absolute poverty,” as the children are unable to attend school because they lack the money to feed themselves.\\n\\n“I would think, after seeing the way the children have been forced into poverty, they would have to want to go to'},\n",
       " {'generated_text': \"absolute poverty', which he also felt, but added that he had not yet been invited to read all his books, he would have to make sure of not letting other people tell him what to do.\\n\\nHe was to die five years later,\"},\n",
       " {'generated_text': 'absolute poverty of the soul.” And so, in this way, the doctrine of\\nChrist begins to be applied in practice to the poor and destitute. The\\ndoctrine has already begun to be applied to the needy and poor of'},\n",
       " {'generated_text': \"absolute poverty' (cough). In some countries it can even be used to mean 'being poor'. Thus, in New Zealand one could be 'a millionaire' and 'be poor but not in poverty'.\\n\\nThe adjective 'low-income\"},\n",
       " {'generated_text': 'absolute poverty, the people of the world.\\n\\nIt seems strange to think, as he writes, of poverty in a country that boasts a middle class economy (albeit a very small one) and a thriving economy. Yet, after a series of'},\n",
       " {'generated_text': 'absolute poverty.\\n\\n\"This is no time for charity, I want to see a country that is free,\" he said.\\n\\n\"I want to know who is responsible for this destruction. We will be vigilant as we move forward.\\n'},\n",
       " {'generated_text': 'absolute poverty\" and \"hard times\" since the 1990s.\\n\\nThe president has repeatedly said that he made his decision after consulting his top economic advisers -- and his former vice president, Dick Cheney, who is advising him on his response.\\n'},\n",
       " {'generated_text': 'absolute poverty. A small number of these were probably very old and\\nlanguished souls, and were probably at last ripe for a new state of\\nexistence. Others, I think, were, after a very short period, to be\\nfollow'},\n",
       " {'generated_text': 'absolute poverty\" and \"unfairness\" in the system.\\n\\nAnd as for the poor who would be worse off under the Senate plans, they would continue to pay nothing because they would be paying some of their tax liability in advance: \"'},\n",
       " {'generated_text': 'absolute poverty, and one can imagine these young people now having to work in the fields or for the local factory owner. There would be a huge difference in their life prospects. If one of their family members had died, they would receive no inheritance at'},\n",
       " {'generated_text': 'absolute poverty, the blackness of her eyes, the\\nwonders her hands had been born to, and that she could not do more\\nthan she already had done for her parents. She could not even pay a\\nsingle cent for her'},\n",
       " {'generated_text': \"absolute poverty.\\n\\nAnd it's going to take a hell of a lot more than that, and a hell of a lot more than that, and a hell of a lot more than that, and a hell of a lot more than that to\"},\n",
       " {'generated_text': 'absolute poverty. When people in the world realize this, they’ll go and get more food. You don’t want to have that happen.”\\n\\nSome will point to the food aid. But, he says, his'},\n",
       " {'generated_text': 'absolute poverty.\\n\\n2. A person or a system has a positive incentive to reduce its risk of extreme poverty.\\n\\n3. The risk of extreme poverty has been reduced.\\n\\n4. A reduction in the risk of extreme poverty is'},\n",
       " {'generated_text': 'absolute poverty in an era of economic and geopolitical turmoil.\\n\\nEven during such times of economic distress and social upheaval, in the midst of what has become a brutal civil war, the Soviet Union, after all that it has endured over the years,'},\n",
       " {'generated_text': \"absolute poverty', so when he was released he had no place to go but the West African coast and his mother moved with him to Cameroon. By the time he arrived at the port the local black officials had seized him and sent him to an internment\"},\n",
       " {'generated_text': 'absolute poverty.\\n\\nAs part of the research, she was able to examine several aspects of the population, including its age, gender, and educational attainment. The analysis revealed that, on average, 40 percent of the population lived in extreme poverty,'},\n",
       " {'generated_text': \"absolute poverty,' _pauvreté_ , that is: no money. In other words, they are, collectively, not living well. This is not an exact definition; but it is sufficient to recognize a reality.\\n\\nThe great\"},\n",
       " {'generated_text': 'absolute poverty for a decade in the United States.\\n\\n(Photo: Paul J. Richards/AFP/Getty Images)\\n\\nThe \"American Dream\" is a phrase commonly used to describe the expectation that every American has to achieve financial stability in'},\n",
       " {'generated_text': 'absolute poverty.\\n\\nWe are not simply talking small amounts of cash here. We are talking hundreds of thousands of dollars.\\n\\nThe Federal government is taking millions of dollars from hundreds of pension plans with promises to ensure the pensions they have now will'}]"
      ]
     },
     "execution_count": 60,
     "metadata": {},
     "output_type": "execute_result"
    }
   ],
   "source": [
    "df['gptneo_sentences'][1]"
   ]
  },
  {
   "cell_type": "code",
   "execution_count": 61,
   "metadata": {},
   "outputs": [
    {
     "data": {
      "text/plain": [
       "[{'generated_text': 'absolute poverty to the very lowest of the subsistence level of India (, a state where the population of some 169 million has risen to about 330 million by the decade of the last year). ((The National Government of India): \"... a nation that suffers from extreme poverty is a country with great tolerance and stability.\") <4. In the year 2010–2011'},\n",
       " {'generated_text': 'absolute poverty <s/> the poverty of the most people\". In addition to absolute poverty<s/> absolute poverty <s/> absolute poverty<s/> absolute poverty <s/> absolute poverty <s/> absolute poverty<s/> absolute poverty<s/> absolute poverty<s/> absolute poverty<s/> absolute poverty<s/> absolute poverty<s/> absolute poverty'},\n",
       " {'generated_text': 'absolute poverty <</ </<< < < <><< << < <<< < <> <   < *<< < <<<< <=  << = <.000'},\n",
       " {'generated_text': 'absolute poverty (in the main (for export)) In an extreme poverty (save for the local economy) in Ukraine (except for the largest market), (except for export).) <eos> absolute poverty (except for a few small regions) (except for the only market) (except for a small number of small markets) (except for the'},\n",
       " {'generated_text': 'absolute poverty (a rare occurrence of the first ten years of the first 5 years) (the first 10 years of the sixth month of the second decade of the second -first month of the second - and the third, second - and fifth - third - and fourth - and the fourth - and the fifth - and the fifth - and the seventh - and the ninth'},\n",
       " {'generated_text': \"absolute poverty to the vast part of Indonesia is still widespread in Southeast Asia. For example, the level of sanitation and water supply is highly similar. The levels of income were raised relatively high as the world developed into a multi-national industrial society, particularly in the modern age. As such, low income inequality and corruption has been reduced by decreasing economic growth. However, the development of Western Asia's infrastructure continues to worsen.\"},\n",
       " {'generated_text': \"absolute poverty< br. br.  </div.)  ) ([] / ]> p. 11. ) ( , p. 11. ) John of Oxford John of Oxford (; ; written: ) was a Roman Catholic bishop of Cambridge and Oxford in England. John's name in this book is\"},\n",
       " {'generated_text': 'absolute poverty<..<br> a \" ..... ...... \"<..<br> ; ....<... ; ... ; ...<... ; ... ; ...<...<...<...<.'},\n",
       " {'generated_text': 'absolute poverty<nowiki> </nowiki> <nowiki> <></nowiki> <nowiki> <nowiki></nowiki></nowiki></nowiki> <nowiki> <nowiki> <nowiki></nowiki><nowiki> <nowiki> <nowiki></nowiki><nowiki></nowiki></nowiki> <nowiki> <nowiki> <nowiki> <nowiki> <nowiki> <nowiki>'},\n",
       " {'generated_text': 'absolute poverty . . . . . . to the duff, the wretchedness.. . . . to the stifling poverty. . . . to the sultry strous stultling stultling stultling stultling stultling stultling stultling stult'},\n",
       " {'generated_text': 'absolute poverty<br> Uneconomics\"= \"> \"</ref:<br> \"> <br>\"<br>\"<br>\"<br>\"<br>\"<br>\"<br>\"<br>\"<br>\"<br>\"<br>\"<br>\"<br>\"<br>\"<br>\"<'},\n",
       " {'generated_text': 'absolute poverty<<div> absolute poverty<<subc> absolute poverty<<subc> absolute poverty<<subc> absolute poverty<<subc> absolute poverty<<subc> absolute poverty<<subc> absolute poverty<<subc> absolute poverty<<subc> absolute poverty<<subc> absolute poverty<<subc> absolute poverty<<subc> absolute poverty'},\n",
       " {'generated_text': 'absolute poverty <eos> absolute poverty <eos> extreme / total absolute poverty <eos> total / severe unbearable suffering / total / total unbearable suffering / extreme unbearable suffering / severe unbearable suffering / severe unbearable suffering / severe unbearable suffering / severe unbearable suffering / severe unbearable suffering / severe unbearable suffering / severe unbearable suffering / severe unbearable suffering / severe unbearable'},\n",
       " {'generated_text': 'absolute poverty (); poor local income; rural poor; income from the government; poverty (in some areas, above poverty, at least 1%); poverty (including at least 3% in some areas); poverty (including at least 1% in some areas); poverty (including at least 1% in some areas); poverty (including at least 1% in some areas)'},\n",
       " {'generated_text': 'absolute poverty / absolute unification / absolute unification / absolute unification / absolute singleism / absolute self-simulatory / absolute singleism / absolute unity / absolute singleism / absolute absolute unity — absolute unity / absolute unity / absolute unity — absolute unity / absolute unity — absolute unity — absolute unity — absolute unity — absolute unity'},\n",
       " {'generated_text': 'absolute poverty/under-paying:((() – ? ,)?:(/) , , , ,, ? 4. The Great Eternal (,,) (,,) , ,, : 5'},\n",
       " {'generated_text': 'absolute poverty <eos> absolute poverty– in every country and state, every city or municipality, every village, every town and country, every village and municipality but also in every state and municipality of the whole of the United States of America. In every town and municipality of the New York Metro or any other city or municipality of the total of America of the United States of America of the United States of America and every other'},\n",
       " {'generated_text': 'absolute poverty <           <o     <o    <o    <     <o   <o   <     '},\n",
       " {'generated_text': 'absolute poverty <eos> absolute poverty <eos> absolute poverty <eos> absolute rationy <eos>absolute rationy <eos> absolute rationy <eos> absolute rationy <eos> absolute rationy <eos> absolute rationy <eos> absolute rationy <eos> absolute rationy <eos> absolute ration'},\n",
       " {'generated_text': 'absolute poverty<br> Absolute poverty<br> absolute poverty<br> absolute poverty<br> absolutely poverty<br> absolute poverty<br> absolute poverty<br> absolute poverty<br> absolute poverty<br> absolute poverty<br> absolute poverty<br> absolute poverty<br> absolute poverty<br> absolute poverty<br> absolute poverty<br> absolute poverty<br> absolute poverty<br>'}]"
      ]
     },
     "execution_count": 61,
     "metadata": {},
     "output_type": "execute_result"
    }
   ],
   "source": [
    "df['xlnet_sentences'][1]"
   ]
  },
  {
   "cell_type": "code",
   "execution_count": null,
   "metadata": {},
   "outputs": [],
   "source": []
  }
 ],
 "metadata": {
  "kernelspec": {
   "display_name": "'tensflow'",
   "language": "python",
   "name": "tensflow"
  },
  "language_info": {
   "codemirror_mode": {
    "name": "ipython",
    "version": 3
   },
   "file_extension": ".py",
   "mimetype": "text/x-python",
   "name": "python",
   "nbconvert_exporter": "python",
   "pygments_lexer": "ipython3",
   "version": "3.7.6"
  }
 },
 "nbformat": 4,
 "nbformat_minor": 4
}
