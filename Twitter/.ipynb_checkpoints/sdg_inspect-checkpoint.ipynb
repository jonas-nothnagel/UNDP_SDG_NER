{
 "cells": [
  {
   "cell_type": "code",
   "execution_count": 1,
   "metadata": {},
   "outputs": [],
   "source": [
    "import pandas as pd\n",
    "pd.set_option('display.max_colwidth', None)"
   ]
  },
  {
   "cell_type": "code",
   "execution_count": 2,
   "metadata": {},
   "outputs": [],
   "source": [
    "df1 = pd.read_csv(f'sdg1_tweets.csv', index_col = 0)\n",
    "df2 = pd.read_csv(f'sdg2_tweets.csv', index_col = 0)\n",
    "df3 = pd.read_csv(f'sdg3_tweets.csv', index_col = 0)\n",
    "df4 = pd.read_csv(f'sdg4_tweets.csv', index_col = 0)\n",
    "df5 = pd.read_csv(f'sdg5_tweets.csv', index_col = 0)\n",
    "df6 = pd.read_csv(f'sdg6_tweets.csv', index_col = 0)\n",
    "df7 = pd.read_csv(f'sdg7_tweets.csv', index_col = 0)\n",
    "df8 = pd.read_csv(f'sdg8_tweets.csv', index_col = 0)\n",
    "df9 = pd.read_csv(f'sdg9_tweets.csv', index_col = 0)\n",
    "df10 = pd.read_csv(f'sdg10_tweets.csv', index_col = 0)\n",
    "df11 = pd.read_csv(f'sdg11_tweets.csv', index_col = 0)\n",
    "df12 = pd.read_csv(f'sdg12_tweets.csv', index_col = 0)\n",
    "df13 = pd.read_csv(f'sdg13_tweets.csv', index_col = 0)\n",
    "df14 = pd.read_csv(f'sdg14_tweets.csv', index_col = 0)\n",
    "df15 = pd.read_csv(f'sdg15_tweets.csv', index_col = 0)\n",
    "df16 = pd.read_csv(f'sdg16_tweets.csv', index_col = 0)\n",
    "df17 = pd.read_csv(f'sdg17_tweets.csv', index_col = 0)"
   ]
  },
  {
   "cell_type": "code",
   "execution_count": 3,
   "metadata": {},
   "outputs": [],
   "source": [
    "df1['sdg'] = 1\n",
    "df2['sdg'] = 2\n",
    "df3['sdg'] = 3\n",
    "df4['sdg'] = 4\n",
    "df5['sdg'] = 5\n",
    "df6['sdg'] = 6\n",
    "df7['sdg'] = 7\n",
    "df8['sdg'] = 8\n",
    "df9['sdg'] = 9\n",
    "df10['sdg'] = 10\n",
    "df11['sdg'] = 11\n",
    "df12['sdg'] = 12\n",
    "df13['sdg'] = 13\n",
    "df14['sdg'] = 14\n",
    "df15['sdg'] = 15\n",
    "df16['sdg'] = 16\n",
    "df17['sdg'] = 17"
   ]
  },
  {
   "cell_type": "code",
   "execution_count": 4,
   "metadata": {},
   "outputs": [],
   "source": [
    "df_list = [df1,df2,df3,df4,df5,df6,df7,df8,df9,df10,df11,df12,df13,df14,df15,df16,df17]"
   ]
  },
  {
   "cell_type": "code",
   "execution_count": 5,
   "metadata": {},
   "outputs": [],
   "source": [
    "df_list = pd.concat(df_list, ignore_index = True)"
   ]
  },
  {
   "cell_type": "code",
   "execution_count": 6,
   "metadata": {},
   "outputs": [],
   "source": [
    "df = df_list.drop_duplicates()"
   ]
  },
  {
   "cell_type": "code",
   "execution_count": 7,
   "metadata": {},
   "outputs": [],
   "source": [
    "df = df[~df['tweet'].astype(str).str.startswith('RT')]"
   ]
  },
  {
   "cell_type": "code",
   "execution_count": 8,
   "metadata": {},
   "outputs": [],
   "source": [
    "from collections import Counter"
   ]
  },
  {
   "cell_type": "code",
   "execution_count": 9,
   "metadata": {},
   "outputs": [],
   "source": [
    "df['tweet_len'] = df['tweet'].apply(lambda x: len(str(x)))"
   ]
  },
  {
   "cell_type": "code",
   "execution_count": 10,
   "metadata": {},
   "outputs": [],
   "source": [
    "df = df[df['tweet_len'] > 100]"
   ]
  },
  {
   "cell_type": "code",
   "execution_count": 11,
   "metadata": {},
   "outputs": [],
   "source": [
    "df = df.reset_index(drop = True)"
   ]
  },
  {
   "cell_type": "code",
   "execution_count": 12,
   "metadata": {},
   "outputs": [
    {
     "data": {
      "text/plain": [
       "Counter({1: 3797,\n",
       "         2: 5977,\n",
       "         3: 12814,\n",
       "         4: 21790,\n",
       "         5: 3465,\n",
       "         6: 5938,\n",
       "         7: 3275,\n",
       "         8: 8208,\n",
       "         9: 13892,\n",
       "         10: 8126,\n",
       "         11: 9852,\n",
       "         12: 4261,\n",
       "         13: 3853,\n",
       "         14: 5519,\n",
       "         15: 13018,\n",
       "         16: 4186,\n",
       "         17: 1777})"
      ]
     },
     "execution_count": 12,
     "metadata": {},
     "output_type": "execute_result"
    }
   ],
   "source": [
    "Counter(df['sdg'])"
   ]
  },
  {
   "cell_type": "code",
   "execution_count": 70,
   "metadata": {},
   "outputs": [],
   "source": [
    "df.to_csv('17SDG_tweets.csv')"
   ]
  },
  {
   "cell_type": "code",
   "execution_count": 15,
   "metadata": {},
   "outputs": [
    {
     "data": {
      "text/plain": [
       "0                                                              @CommodusJTrump @Deborah40695678 I lived the first 10 yrs of my life in abject poverty, no bathroom (outhouse &amp; a bucket for the Winter), went to bed hungry many nights &amp; would have died for a home like this... But I was privilege because I am White.. could have fooled me\n",
       "1                                                              @POTUS with respect sir, I strongly suggest you consider this. I understand the opposition to it but families have been torn apart from divorce, illness, injuries and death. This will greatly help people create for their families and hope for the hopeless. Please consider it sir.\n",
       "2                                                                           It’s in the hands of a few corrupt individuals who enriched themselves from tenders and BEE. Why not say it like it is. The blacks ransacked this country abs kept their own people in poverty. Why in the hands of a few. Who are those few. Because enca needs to wake up\n",
       "3                                                                                                                                                                                      How many jobs were lost in urban India during lockdown? - Arup Mitra @IEG Jitender Singh @JitenderDahiya8 @FinMinIndia \\n#lockdown2021 \\nhttps://t.co/sKBSYh9X0t\n",
       "4                                                                                                @joncoopertweets @MeidasTouch @rosemcgowan probably looking for a gig.  Democrats just cut childhood poverty in half.  That's a reality. What have the Republicans done for us lately?  Oh, right, treason.  I think I found your cult Rose.  Come on.\n",
       "                                                                                                                                                                             ...                                                                                                                                                                       \n",
       "3792                                                                                      Tonight at 5:30, please join @wttw ,the UChicago Crown Family School of Social Work, Policy, and Practice, and the UChicago Inclusive Economy Lab for a virtual conversation on issues of equity in education. Use this link to join! https://t.co/rHLpdQqM02\n",
       "3793                                                                                              @kernaghant I'm also expressing gratitude for those family members who made hard sacrifices to keep their family members safe. They didn't die but their financial stories are harsh and reminders of just how hard pandemics are on those in poverty\n",
       "3794                                                       @Nikhilreturns I don’t think people shd be surprised. Bjpee never said they’ll work on health infrastructure, education, poverty, hunder index, equality etc etc. Sangh has an agenda, they admired Hitler and Mussolini, Muslims are at the receiving end, and that’s why you people voted.\n",
       "3795                                                                                                                                                                                       @africantylus1 Point is they're too open and have poor game management, they're such an attack minded team and that makes them vulnerable to counter attacks\n",
       "3796    @BrendanConley98 @RBReich @SheridanTAustin @PeterKolchinsky There's no good reason other than greed why insulin in the United States costs eight times as much as in Canada. I don't need to read Kolochinsky's book to understand greed. Other countries also have innovations in drugs. Even poverty stricken Cuba often makes breakthroughs.\n",
       "Name: tweet, Length: 3797, dtype: object"
      ]
     },
     "execution_count": 15,
     "metadata": {},
     "output_type": "execute_result"
    }
   ],
   "source": [
    "df[df['sdg'] == 1]['tweet']"
   ]
  },
  {
   "cell_type": "code",
   "execution_count": 16,
   "metadata": {},
   "outputs": [
    {
     "data": {
      "text/plain": [
       "3797                                                          today, the average household spends less than 10% of their income on food. therefore, if your income is lower than 10 x the cost of the USDA basic food plan, you may very well be food-insecure.\n",
       "3798                                                                   If Food Were People! 36 Funny Situations: Subscribe Here: https://t.co/tuV8UEv5PG If My Mom Works for YouTube / 16 Funny Situations: ... https://t.co/PV6zBCCzaS https://t.co/5U1ojyirqb\n",
       "3799                                                   @ShireHomestead My kids an my woman they made me a better me an friends comic books cartoons films food trees wild flowers and i can't for get my little buddy the best cat in the world an so much more\n",
       "3800                                                                                                                                          @SeanRands That made me sad as well. Was nicely surprised to see the Hunger Games’ prequel book dedicated to him.\n",
       "3801    @DaemonHarret I have no doubt they didn't think at all. I used to hide being sick. Worked fast food management and never missed a shift for 9 years.... through every cold and flu. It's bullshit that people make so little that they have to do that.\n",
       "                                                                                                                                 ...                                                                                                                           \n",
       "9769                                                                                                                                              6. If I am craving something, I eat it. Not eating it can lead to left over hunger which leads to overeating.\n",
       "9770        Biden (Obama by way of Susan Rice) hammers Rudy with a Wrap-Up Smear Allegation for exposing Hunter...\\n\\nAnything to keep #TehranJohn out of the news...\\n\\n#WednesdayWisdom\\n#WednesdayMotivations\\n#NationalSuperheroDay https://t.co/FfeXnub3qI\n",
       "9771                                                                                                                                         @beeslywyatt i agree i have an and tw for food are not helpful at all, they make it worse for me, so please don't!\n",
       "9772                                                                                                                    H-hewwo??  Kawwa's fwiends in Tacwoban, Weyte awso set up a community pantwy to cewebwate Daniew's biwthday ._. https://t.co/wxQ8RPvyRC\n",
       "9773                                                                                                                             @Megansykes98 You’ll be sorry when your baby is crying and isn’t satisfied by milk and you’re feeding a new born lime and sofa\n",
       "Name: tweet, Length: 5977, dtype: object"
      ]
     },
     "execution_count": 16,
     "metadata": {},
     "output_type": "execute_result"
    }
   ],
   "source": [
    "df[df['sdg'] == 2]['tweet']"
   ]
  },
  {
   "cell_type": "code",
   "execution_count": 17,
   "metadata": {},
   "outputs": [
    {
     "data": {
      "text/plain": [
       "9774                                                                                                                                                    @1111Manifest @DrJenGunter Did you see your doctor about that? Could be cancer or a cyst. Don’t just think it’s magic protein spikes floating in air and move on.\n",
       "9775                                              Scenes of protests in front of Upper 5 and some wards in Mingaladon Township this morning, with signs warning people not to attend basic education schools that the military council is trying to open. \\n#WhatsHappeningInMyanmar \\n#Apr29Coup https://t.co/iz9rbLEdEd\n",
       "9776                 @SierraDante There is a group of people mainly over 70 and others with serious chronic health issues who do need the COVID-19 vaccines. They are the only group that do. Insane vaccinate younger healthy persons and now they’re talking about vaccinating young kids? That needs to be stopped!!!!\n",
       "9777                                     @Undetermined_US @mmorten @briebriejoy I don't believe it even halves the child poverty rate seeing as removing the 15 dollar minimum wage from the bill didn't change that figure at all. Plus it's only for a year and yet liberals are acting like it's the fucking new deal.\n",
       "9778                                                                                                    My childhood friend lost his son to #coronavirus on 24 April. \\nAunty died a few hours ago. Uncle is fighting for his life in a hospital. \\nThere was nothing I could say to him that could give him any succour.\n",
       "                                                                                                                                                               ...                                                                                                                                                       \n",
       "22583                                                                                         4 Reasons your Practice should install a Patient Portal Platform\\nhttps://t.co/qliUjDE2vl\\n#EMRSystems #SimplifyingSelection #healthcare #healthcareIT #medtwitter #digitalhealth #healthIT #doctors #digitalhealth #doctor\n",
       "22584                                                                                                            #COVID19 : How #healthcare workers are leading the fight against the pandemic\\n\\n#HealthcareHeroes #COVID19India \\n\\nYouTube: https://t.co/Sc7DAWAzmP\\n\\nhttps://t.co/epkaX03hBs https://t.co/49RGeTzw0q\n",
       "22585                                                                                                                    @NeoGeo12 @cenkuygur @JoeBiden The minimum wage is the same—$7.25—no matter the race, and so is lack of healthcare. He will be remembered for being useless except to his 133 billionaire donors\n",
       "22586    ⭐Getting Good Sleep⭐\\nThis course covers why we need good sleep, the link between mental health &amp; sleep and ways to improve your sleep. \\nStarts Wednesday 9th June Online.\\nCall 0116 295 1196 or email recoverycollege@leicspart.nhs.uk to book @LPTnhs @LPTpatientexp @WEAadulted https://t.co/cDgAz1lOus\n",
       "22587                                               As much as we endorse dedication, we also endorse mental healthcare. We understand that platforms such as twitter are a way to let off the steam and maintain communication with our friends&amp;family that might be far away. Just be aware of your screen time ;)!\n",
       "Name: tweet, Length: 12814, dtype: object"
      ]
     },
     "execution_count": 17,
     "metadata": {},
     "output_type": "execute_result"
    }
   ],
   "source": [
    "df[df['sdg'] == 3]['tweet']"
   ]
  },
  {
   "cell_type": "code",
   "execution_count": 18,
   "metadata": {},
   "outputs": [
    {
     "data": {
      "text/plain": [
       "22588                                                                                                                                          In my highschool (2016) they really suspended a girl who made a fake clown account and said she was going to to b0mb the school in the next few days💀💀\n",
       "22589                         LEGO Education: WeDo 2.0 Core Set (45300)\\n⸻⸻⸻\\nView it on eBay:\\n🔗 https://t.co/zye0LibHgi\\nMore info on Search &amp; Collect:\\n🔗 https://t.co/RzlxnQMTeD\\n⸻⸻⸻\\n#SearchNCollect #eBay #Auction #US #UnitedStates #LEGO #Bricks #BrickSetSearch https://t.co/I00vMGeLy6\n",
       "22590                                                               @_socialdrone @UniofBradford @NevilleSouthall It's an amazing achievement to have finished your education whilst living with that level of abuse.  Be proud of yourself. Keep doing you,  as you are perfect the way you are ❤ xx\n",
       "22591                                                                                                                                 @discord so I can look back and cringe at all the gifs and emojis I sent to my friends in high school while I am on a voice chat with my college clubs why else\n",
       "22592                                                                                                                    remembering when a latino at my university said they check native american for their race because he believes that all latinos are indigenous🤢 and before yall ask yes he is\n",
       "                                                                                                                                                     ...                                                                                                                                             \n",
       "44373    @big_deac @buzzerblog @AmieKanna @Jeopardy My point is that only a spoiled, pampered, snowflake who had to be perpetually offended would be offended by a guy holding up 3 fingers.  This is what happens when everyone gets a trophy.  You need to grow up Lee and study something Im STEM.\n",
       "44374                                                                                                                                                                      hopefully i become a millionaire soon so i can have my money work for me and i can go back to school to fulfill that dream\n",
       "44375             @VP Please donate, share and retweet, help baby Joshua win his fight against *acute lymphocytic leukemia*—blood cancer. He’s relying on the success of chemotherapy &amp; a life-saving stem cell transplant. Please help to give Joshua a fighting chance: https://t.co/D6quNB1CrP\n",
       "44376                                                                                                                                                                       @RameshPonnuru This is empirical data that literacy has declined markedly among the public at large in the last 40 years.\n",
       "44377        New product can be： ♡ combined arbitrarily,  ♢ printable patterns,  ♧ exercise children's hands-on ability and ♤ luminous effect♡\\n\\n#Thursday  #earlyeducationmatters #education #colors  #cube #Creative  #creativity #removable #diceclubs #dicefunk  #puzzle https://t.co/jzOHzvBB6l\n",
       "Name: tweet, Length: 21790, dtype: object"
      ]
     },
     "execution_count": 18,
     "metadata": {},
     "output_type": "execute_result"
    }
   ],
   "source": [
    "df[df['sdg'] == 4]['tweet']"
   ]
  },
  {
   "cell_type": "code",
   "execution_count": 19,
   "metadata": {},
   "outputs": [
    {
     "data": {
      "text/plain": [
       "44378                                                                                                                                                                     🤣🤣🤣🤣🤣🤣🤣my girls are doing the job lmaooo @shinelleBaaba who said Esinam because this is sth she can do with full force\n",
       "44379                                                                                                                                                                          Do women think a lot of niggas look alike? Cause I think a lot of women look the exact same lol (not a bad thing)\n",
       "44380                                                                                          @AlyssaHatcher10 @jcg6845 @KingJames I stopped watching football. It was the only sport I watched. The reason I stopped is when Drew Breeze put Jacob Blakes' name on his helmet. I am anti rape.\n",
       "44381                                                                                       @FabianaBacchini @Cdn_Prem_Babies Great person to have! I’d be happy to speak with you more - my focus is the placenta in preeclampsia and women’s health afterwards, from a research perspective 🧪🔬\n",
       "44382    We need to remember that sexual assault is not, and has never been limited to women and girls.  There is such a stigma in coming forward.\\n\\nThanks to bravery of those like @TM_Manu_Forti speaking out, maybe one day the shame will be placed where it belongs- on the perpetrators!\n",
       "                                                                                                                                                  ...                                                                                                                                           \n",
       "47838                                                                                           For those of you that will watch brainless Biden speech tonight  (not me). Look at what is behind him. Don’t look at its 2 women which is great...look at 2 CA replacement of Biden if he dies😬.\n",
       "47839                                                                                                                Stunning cam model - New Post has been published on https://t.co/2mAc6n1aEK Stunning cam model FREE LIVE NUDE CAM SHOW FREE ACCESS TO LIVE SEX SHOW https://t.co/Uxs4vNG68h\n",
       "47840                                                                                                                                                                              Can you kiss me more 🥰 send for a rate ;) and for more #horny #nsfw #dick #sex #pussy https://t.co/rMLAbTTsah\n",
       "47841                                                               Queen @RealBrittBaker looked SO Good tonight !!! and she wasn't lying at all she's for sure the reason I tune in every week and I Can't wait for her to FINALLY Become the Women's Champion it's way Over due 🥰 #AEWDynamite\n",
       "47842                                                                                                                                                  @mssassychick32 @Sweeteddie @RealitySteve Okay, Kelly. Women should be supporting women? Weird way of showing it. https://t.co/iwW88TRFdZ\n",
       "Name: tweet, Length: 3465, dtype: object"
      ]
     },
     "execution_count": 19,
     "metadata": {},
     "output_type": "execute_result"
    }
   ],
   "source": [
    "df[df['sdg'] == 5]['tweet']"
   ]
  },
  {
   "cell_type": "code",
   "execution_count": 20,
   "metadata": {},
   "outputs": [
    {
     "data": {
      "text/plain": [
       "47843                 adding to my dwarven jawbone shield blueprint's second book:(combat) defense: Non-scrambling/destroying/sacrificing post: me:Love(Ruler's Defense, Noble's Defense) develops/gains/keeps party/flight bulks from eldar, so servant of the river stixx dedication is gained/kept(party).\n",
       "47844                                                                                                                                                                    @ComerTuCulo_ Wow. Now you're lashing out. Let's calm down and go buy the Mariners' playoff a drought a beer since it can drink now.\n",
       "47845                                                                                                                                               How do the Jedi cook every meal at home when they are staying in hotels? Use the toilet as a sink. VLOG : https://t.co/6iSnYDW2ED https://t.co/iAUH9GfFhF\n",
       "47846                                                    I would hoard water, declare that it isn’t a basic human right, bottle it, sell it to people, and then manipulate the public into blaming straws (instead of the billions of plastic bottles in waste I’ve created) for the bulk of the pollution...\n",
       "47847                                                                                 oh! and make sure you’re eating, and drinking enough water! it’s even harder to do things when you’re unmotivated AND not giving your body the energy it needs to be happy!! take as best care of yourself as you can!!\n",
       "                                                                                                                                                         ...                                                                                                                                                 \n",
       "53776    Under flash flood warnings NOW. 5G and electric are greenhouse monsters. You cannot evacuate. People should NOT LIVE IN PATHS OF DESTRUCTION when the world plans to defraud IN ADVANCE. ANY that use dollars and not debit fraud will be harmed. What does that leave?!!??? https://t.co/baBbmMKRfq\n",
       "53777                                                                                                                                                                         Good to know that a little time outside the city does not at all dilute my rage about GARBAGE LIKE THIS https://t.co/BZwt8bARYA\n",
       "53778                                                                     @JunkScience More accurately, lead pipes that gave been installed for a long time have a PbO2 coating that prevents lead leaching into drinking water\\nNobody in their right mind would install new lead pipes. Or use lead solder.\n",
       "53779                               @eyeballjazz I was going to say \"Brackish\" as in exhibiting the distinct mixture of salt and fresh water that characterizes certain aquatic environments, but the dictionary also defines it as \"unpleasant or distasteful\" and that just isnt what I'm going for at all.\n",
       "53780                                                                                                                                                      Kadri robbed by Fleury. If the guy hadn't been on a 16-game goalless drought he might have seen Nichushin wiiiiiide open back door. Pass it Naz...\n",
       "Name: tweet, Length: 5938, dtype: object"
      ]
     },
     "execution_count": 20,
     "metadata": {},
     "output_type": "execute_result"
    }
   ],
   "source": [
    "df[df['sdg'] == 6]['tweet']"
   ]
  },
  {
   "cell_type": "code",
   "execution_count": 21,
   "metadata": {},
   "outputs": [
    {
     "data": {
      "text/plain": [
       "53781                                                                                                                                                  Battery 🔋 wia low go full and battery 🔋 wia full go low,\\nOur prayer na make our charger no burn... https://t.co/5lYCN0FdRg\n",
       "53782                                                                                                                                       @psycmom @Berrdty I just hate how much time and energy is lost on a failure, when it feels like I already don't have enough of either.\n",
       "53783                                                   Taking charge of your identity is a stance. You are showing the world the new version of you, and that you aren’t scared to stand out. You are ready to spread the energy of your authentic self through a new expression.\n",
       "53784                                                                                                                                                I love how Mercury goes retrograde at the end of may. If that doesn’t sum up what Gemini energy is then idk what to tell you.\n",
       "53785    The #AmericanFamiliesPlan is a historic investment in our families &amp; children—&amp; the future of our country. It envisions the kind of country we ought to be, where every person has access to high quality, affordable education, childcare, &amp; family support.\n",
       "                                                                                                                                           ...                                                                                                                                    \n",
       "57051                                                                                                                                              Say hi to Studiobot, a lean-emphasized solutions engine that accelerates energy production for families. 🕹◀️(🤓⛵️👒). #disruption\n",
       "57052                                                                                                  @TKDJacob @RepSwalwell You can thank technology and cheap energy plus better hygiene. Wealth of the world has never been greater.  You have trouble seeing it because of ??\n",
       "57053                                                                              @WDdome Good morning honey have a nice day full of joy and energy to do your activities, always with that beautiful smile that illuminates everything around you 💪🍑💪🥰🥰🥰 https://t.co/c5rX4u2LwU\n",
       "57054                                                      Omo if you send me a message and I know it's going to trigger me , I'd clear the chats without reading them and when God bless you and you send a vn , I would never listen , Argue with yourself , I don't have energy\n",
       "57055                                                                                                              @AmberDaione You mean like the beaucoup bucks universities save as we use our internet, electricity, etc to work from home, while taking simultaneous pay cuts?\n",
       "Name: tweet, Length: 3275, dtype: object"
      ]
     },
     "execution_count": 21,
     "metadata": {},
     "output_type": "execute_result"
    }
   ],
   "source": [
    "df[df['sdg'] == 7]['tweet']"
   ]
  },
  {
   "cell_type": "code",
   "execution_count": 22,
   "metadata": {},
   "outputs": [
    {
     "data": {
      "text/plain": [
       "57056                                       Noticed a few promoted tweets now have replies turned off so I can't tell them to fuck off before I block (yes, I know blocking them means they can't see me telling them to fuck off) which means they know they're annoying...so why pay money knowing people will block?\n",
       "57057                                                                                                                                                                          We need 10 days of universal, not time bound, #PaidSickLeave \\nAnd surely medium and large business should be expected to foot the bill?\n",
       "57058                                                                                                     @TheStalwart What a police response would do would be create unemployment. Which would only hurt lower income households as I see it in the current moment if not always. I lean towards it being always bad.\n",
       "57059                                              @Postsubman Nigerians and sentiments. The real question should be, if her stories checked out, will the govt. withhold the money? Regardless of her predicament, she's alleged to have lied to the Public. Yes she needs help but let's not encourage deceits, if...\n",
       "57060    @hunruh14 @CordovaTrades Silver  should be a long term hold, bought on dips. Another is USCI.... +17% (since 1/22/21) we have entered a commodities super cycle. Should go for 15 years +. You can stash your money in those and make better return then parking in a Bank/CD/MM fund. Think of it like that -\n",
       "                                                                                                                                                              ...                                                                                                                                                      \n",
       "65259                                                     operators and gun packs and seasons packs your constantly shoving in my face . That are new . Just fix the game thats all has a consumer thats already spent £100s of asks. Other wise refund every bodies money for a broken game @Activision @RavenSoftware\n",
       "65260                           @MrChuckD The working title of my new album is “Fear of a Blockchain Planet” and explores how decentralized finance can help erode hegemony and disparity. I wanted your approval as your original is very serious and important.  I will only call mine that if it is okay with you. 🙏\n",
       "65261                      Let’s spice things up for TNG Money customs💰 \\n\\n10 Gifted subs PER WIN added onto the normal $30 to anyone streaming TNG Money customs tonight that replies to this tweet and follows me. \\n\\n20 Gifted subs to any @TruNorthGaming Pro that wins one of our money customs tn\\n\\n#TNGonTop🍁\n",
       "65262                                                                                                                                                       Must listen if you care about corruption in Canada.\\n\\nThanks to Sam Cooper for his tenacity, and for Lynda Steele for amplifying this.\\n\\n#CanadaIsCorrupt\n",
       "65263                                                                                                                                                                                                         nvm work let me leave early because i got the flu shot yesterday and wasn’t feeling 100% from that anyway\n",
       "Name: tweet, Length: 8208, dtype: object"
      ]
     },
     "execution_count": 22,
     "metadata": {},
     "output_type": "execute_result"
    }
   ],
   "source": [
    "df[df['sdg'] == 8]['tweet']"
   ]
  },
  {
   "cell_type": "code",
   "execution_count": 23,
   "metadata": {},
   "outputs": [
    {
     "data": {
      "text/plain": [
       "65264                                                                                                                                                           @hatelucki Yeah so literally nothing just \"LOL BELIEVE ME, I TOTALLY KNOW\".\\n\\nOk I believe you random person on the internet with an anime PFP saying \"because I know\". 🤣\n",
       "65265                                                                                                                          Demand for #LancasterPa #WoodstreamCorporation rodent traps and birdfeeders have surged during the pandemic, and the company is rewarding its workers for meeting the challenge.\\n\\nhttps://t.co/udamybGCCT\n",
       "65266                                               Back in 2017.. the Trump and Biden administrations have done nothing but aggressively fund #MedicareAdvantage Corporations despite fraud activities. \\nDOJ's Medicare Advantage lawsuits, investigations likely to change insurance culture https://t.co/uDsQVcb3lO via @modrnhealthcr\n",
       "65267                                                                                       @ShowTyme_Canada @iamdoofie I’m team get a QB all day but in the event that it’s not in the cards and they can’t. A slight trade back would be ideal unless a super star guy is on the board at 15. But ya. A trade out would drive me crazy 😂\n",
       "65268                                                                                                                                                                                                                               Treasury and Trade Solutions, Australia Digital Ecosystem Sales (VP), Sydney - https://t.co/VWhHbTKwr7\n",
       "                                                                                                                                                                       ...                                                                                                                                                                \n",
       "79151    @vital_aeon @LeftyDenty @eye_steal_memes Medicare is socialist/fascist. Health industry made corrupt deal with Democrats for health care at 4 times real price Now socialist fascist Democrats want M4A to bankrupt entire nation.They appeal to greed for free stuff. Capitalism is best it is based on incentive to lower price\n",
       "79152                                                        @ShrimpifyTweets the problem is the hack can bypass 2 step with one easy click also they have a whole army of hack bots just stealing items in seconds without using the trade feature also the godlys get deleted from game for ever so my godlys are gone forever so rip me\n",
       "79153                                                                                               @RepSteel @POTUS His policies are popular with over 60% of Americans. His proposal is that taxes will only go up for corporations, and the wealthiest 2%. NO ONE making under $400,000 a year will be asked for a penny more in taxes.\n",
       "79154                                                                                                                                                                                                        DJ giving our #Jets Etienne over Jenkins/Darrisaw at #23 is pretty shocking. Considering the rumblings linking us to Jenkins.\n",
       "79155                                                                                                                                                                                                                   Knicks did not trade Frank Ntilikina despite ‘opportunities’ earlier in 2020-21 NBA season https://t.co/XgQbeW8cmK\n",
       "Name: tweet, Length: 13892, dtype: object"
      ]
     },
     "execution_count": 23,
     "metadata": {},
     "output_type": "execute_result"
    }
   ],
   "source": [
    "df[df['sdg'] == 9]['tweet']"
   ]
  },
  {
   "cell_type": "code",
   "execution_count": 24,
   "metadata": {},
   "outputs": [
    {
     "data": {
      "text/plain": [
       "79156                                                                                                          @chantler_jaki @EllenEnders @RickPetree @HalMarshall2309 Someone came up with a list a while back: pride, greed, lust, envy, gluttony, wrath, and sloth. And these inspire cheating. And cheating inspired the development of what we call the law.\n",
       "79157                                                                                                                                                                                                                                                  New NYDFS Unit Signals Focus on Fair Lending and Financial Inclusion https://t.co/WLuuKyhxAc | by @jonesday\n",
       "79158                                                                                                               Acceptance and be fair to others gives equality: Acceptance and be fair to others gives equality &amp;nbsp; Citizens who understand that we are all born the same, so are equal from birth may https://t.co/zYVmANwwln https://t.co/aN02keC8lm\n",
       "79159                                                                                                                                                                                                   @atatapupu @akropolisio Its not theft, its called business. Akro gonna use this tokens for future development and lm rewards, which is extremely important\n",
       "79160    @DRH2021 @Nigel_ITBassest @AnthonyLeeBunt4 @raderm @NickJFuentes Yeah but just like your pfp you're just a nameless anonymous twitter user saying crazy shit like discrimination against legal marriages based on your own personal religion is the same as the straw man argument you've made where there's a place that doesn't serve based on politics\n",
       "                                                                                                                                                                                   ...                                                                                                                                                                            \n",
       "87277                                                    BREAKING NEWS: Woolworths - the parent company of Dan Murphy’s - has announced it will not proceed with the Darwin development.\\n\\nIn a media release the company says the decision was made following a recommendation from the Independent Panel Review @DanilaDilba @AMSANTaus https://t.co/quefTsR7P4\n",
       "87278                                                                                                                                                                                     You can always feel the gaze staring into your soul, that's why we're the Enclave Research and Development Division! #Fallout76 @BethesdaStudios https://t.co/xFa1fKeXrD\n",
       "87279                                                                                                                                                                                                                                                       Positive Parenting Tips for Healthy Child Development: https://t.co/7u2Ks73iWZ https://t.co/BDPnN5zsMZ\n",
       "87280                                                             @127RlNGS It’s the first stage in Freud’s psychosexual development theory, and it’s from when ur born to 18 months when u use ur mouth to get to know the world around u like yk babies always put stuff in their mouths. But they can get fixated in that stage if they don’t learn to move on-\n",
       "87281                                                                                                                                                                                                                              Inequality in a wealthy free market economy is no moral outrage. . . but poverty is. Let's focus on eliminating one of the two.\n",
       "Name: tweet, Length: 8126, dtype: object"
      ]
     },
     "execution_count": 24,
     "metadata": {},
     "output_type": "execute_result"
    }
   ],
   "source": [
    "df[df['sdg'] == 10]['tweet']"
   ]
  },
  {
   "cell_type": "code",
   "execution_count": 25,
   "metadata": {},
   "outputs": [
    {
     "data": {
      "text/plain": [
       "87282                 Transparency update: #AB339 passed today out of committee and it will preserve options for remote access (call-in or like Zoom) to city council and county boards post-pandemic. However, we had to significantly reduce the bill to get it passed... (1/4) https://t.co/vSPYP6VSe7\n",
       "87283                                                                                                                                                                   Building Check\\n4/29/2021 12:58AM\\nDistrict: HOL\\nSOUTH ELEMENTARY SCHOOL\\nAddr: 719 S FRANKLIN ST \\nHolbrook, MA 02343\\n21-17678\n",
       "87284                                                                                                                                           She wrote the song Se va la vida (life slips away) after singing #랏슈제조법 at a #러쉬구입방법 women's prison in Valparaíso, a port city near to where she grew up.\n",
       "87285                                                                   @CryptonationN @bunicornswap At the moment , where you are focusing right now ? building and developing product or getting customers and users, or partnerships ? Could you share it?\\n@EbrahimKholil42\\n@MdAlvinur42\\n@tasfiya43\n",
       "87286                                                                                                  Morehead City conditions at: 00:59\\nTemp: 67.8°F (High-Low 68.0-67.8), Humidity: 94%,  SW Wind at 0.0 mph Barometer: 30.09 inHg, Rain: 0.00 in For more information, go to https://t.co/Q9l0TTd2ZG\n",
       "                                                                                                                                                       ...                                                                                                                                               \n",
       "97129                                                                                                                                                                             @iceblinktears maybe it's my mind playing tricks but i swear ive experienced it with like... family + coworkers vjchvnv\n",
       "97130                                                                                              @JEVLloyd @GERONursing Oh geez! Just noticed your surname! Too funny! I am related by marriage to a big Lloyd family. They’re all British Columbians, from Coquitlam. (180 year history in Coquitlam.)\n",
       "97131    @Shaliniviews By nature he very cruel  person T He supported all Anti national movements farmers movements Muslims rioters he can do anything for his votes.  The way he behaved in last lockdown,he called North Indians saying there will buses to leave them 2 their native places bt nothing\n",
       "97132         My aunt got smallpox at 2. She was thought of as Shitala Mata (goddess of smallpox) by neighbours who sought her blessings.\\n\\nShe was so sick that once everyone thought she was dead. The family also put a cloth on her. But the cloth moved with her breathing!\\n\\nShe is 60 yrs old rn\n",
       "97133                                   #NowPlaying ♫ #Np LEGAL - ANOTHER COMMERCIAL FREE HOUR OF URBAN MUSIC  ♫ at https://t.co/mWlpgBXfJb\\n\\nListen https://t.co/zuU4XlRVU7 \\nhttps://t.co/9z7dJrU2Fy\\n\\nWake Up @NotoriousVOG In The Morning #NITM☕ M-F 6:30-11a, Urban Talk, News, Laughs &amp; More!\n",
       "Name: tweet, Length: 9852, dtype: object"
      ]
     },
     "execution_count": 25,
     "metadata": {},
     "output_type": "execute_result"
    }
   ],
   "source": [
    "df[df['sdg'] == 11]['tweet']"
   ]
  },
  {
   "cell_type": "code",
   "execution_count": 26,
   "metadata": {},
   "outputs": [
    {
     "data": {
      "text/plain": [
       "97134                                                                                                             What NOT to do 365: take out the recycling in my underwear... https://t.co/Y93YFPePlH via @YouTube\\n#iveneverbeensothankfulforchildren\\n#CleanComedyDay https://t.co/aQAXjbHgyx\n",
       "97135                                                                                                                                @galaxie4_ever @CNN You mean like the Democrats did to  Donald Trump for four years. One meaningless investigation after another. Wasting taxpayers dollars.\n",
       "97136     7/ @MayorJerryDyer @BalderramaPaco @LuisCha70215912 @FresnoNAMI @namicalifornia @fresnoland My soul hurts that our sts are filled with so many bright, talented, kind, funny, gifted people, who are reviled for broken brains, which they can't control! 💔 Waste of yrs/life.-Michaela\n",
       "97137                                                                                                                                                                  I shall now grant a new name for Rafael @SenTedCruz - #sleepyTed What a waste of space! #BidenAddress #PresidentialAddress\n",
       "97138             @POTUS You do understand Corporations will pass along the tax hikes along to the consumer in increases price of goods and services  they the same if you raise the min wage, too. But I ain’t no economist. Just a tax paying middle class guy trying to survive your nightmare\n",
       "                                                                                                                                                   ...                                                                                                                                           \n",
       "101390                                                                                                              3/3\\nAs Winston Churchill was working to form the United Nations after WWII, he famously said, “Never let a good crisis go to waste”. 🤔 \\nSame M.O.?\\nhttps://t.co/1lkzvOqfEc\n",
       "101391     @narendramodi sir you may delete tweets but the youth will never forget the crisis you drove us into And as you are finally free from your election rallies please do your work🙏 Stop wasting time in cleaning your image Don't forget we will vote in elections #ModiDisasterForIndia\n",
       "101392                            ตัวอย่างวิชาที่น่าสนใจ\\n✅ Engineering management for sustainable value\\n✅ Technology management\\n✅ Commercialisation of new technology\\n✅ Project and change management\\n✅ Leadership and skills development for engineering management https://t.co/bnKC2MFGLc\n",
       "101393                                             @bracketdan Is he still defending Cowboys wasting last yr 1st rd pick on WR? Your old cohort Dan was also calling it best pick ever when D was clear need. Now they are limited in rd 1 because last yrs pick was wasted. Funny how that works\n",
       "101394                                                                                                                                                                                     @MackenzieMays @BarbaraMain07 I love our Gov. The recall is a ridiculous waste of time and money!!!!😡😠\n",
       "Name: tweet, Length: 4261, dtype: object"
      ]
     },
     "execution_count": 26,
     "metadata": {},
     "output_type": "execute_result"
    }
   ],
   "source": [
    "df[df['sdg'] == 12]['tweet']"
   ]
  },
  {
   "cell_type": "code",
   "execution_count": 28,
   "metadata": {},
   "outputs": [
    {
     "data": {
      "text/plain": [
       "101395                                                                                                                         @KJP46 @POTUS For the hundredth time there’s no climate crisis. People have been saying that for over 80 years an wrong every time. Just like they are now is all false an lies.\n",
       "101396                                                          Climate change is what worries me most. I worry for the future of my grandchildren.  #climatechange #auspol Australia’s climate change targets will come under pressure from the Quad says senior Democrat John Podesta https://t.co/VZdOrKTIY1\n",
       "101397                      Immigration can be a solution in Syracuse. \\n\\nLet’s build the housing and fund the streets to populate our city with 15000 new residents over 5 years. We have the space to allow climate change and violence fleeing refugees to reestablish a new livelihoods and create a home.\n",
       "101398                       From racial justice &amp; voting access to climate change &amp; pandemic recovery, humanities and social sciences research helps us to understand where we've been &amp; the challenges we face. Congratulations #CarnegieFellows! https://t.co/RPpdz4zvn5 https://t.co/a6rFDARdRE\n",
       "101399    Pressing needs of 🇺🇸?\\n\\n- Record-low wages &amp; high inequality\\n- Record student debt &amp; cost of education\\n- Medical care is NOT yet a right in the wealthiest country in the 🌎 (🇺🇸)\\n- Frontline workers swamped in student loans, w our lives on the line\\n- Climate crisis\\n\\n#JointAddress\n",
       "                                                                                                                                                          ...                                                                                                                                                  \n",
       "105243                                      👁️✝️👁️🌋🕯️🍞🌐👀👂🙏\\nAll past present and future politicians were are will be satans antichrist inquisition pedophiles fornicators idolaters sorcerers jesuits Illuminati popes elites sunday law evolution climate change babylon systems lies pee'ons , Period !!!!!!!\n",
       "105244                                                                                               @sherean Trickle down was best trick played by smart rich donors thru their hand picked dumb B Rated movie star on middle class.\\n\\nMiddle class wages have been about same as in 1980 in constant dollar.\n",
       "105245                                                                                               “The climate crisis is not our fight alone, either. It’s a global fight. The United States accounts for less than 15% of carbon emissions. The rest of the world accounts for 85%” https://t.co/Z3yP5Sal88\n",
       "105246                                                                                                                                                Landmark program joins investors with scientists to confront climate change https://t.co/8IlQ8FYxew #ActOnClimate #watches4nature https://t.co/UcrWScdRKU\n",
       "105247                                          did i hear biden correctly earlier during his address that american is responsible for 15% of the worlds pollution why the rest of the world is responsible for the other 89%? ...i was trying to find something to watch but im pretty sure thats what i heard\n",
       "Name: tweet, Length: 3853, dtype: object"
      ]
     },
     "execution_count": 28,
     "metadata": {},
     "output_type": "execute_result"
    }
   ],
   "source": [
    "df[df['sdg'] == 13]['tweet']"
   ]
  },
  {
   "cell_type": "code",
   "execution_count": 29,
   "metadata": {},
   "outputs": [
    {
     "data": {
      "text/plain": [
       "110767                                                                                                                                                                           with only FOURTY Seven billion dollars in my bank account and only FOURTY Seven lamborghinis in my lamborghini account and only FOURTY Seven hill\n",
       "110768                                        Ryan Giggs pleads not guilty in first court appearance after being charged with assault https://t.co/nYp7d5gJmE denied a charge he was violent and engaged in behaviour towards a woman in her 30s, including isolation, belittling, humiliation, harassment, degradation and abuse.\n",
       "110769                     @JoshLuton1998 I don’t think they’re talking about ‘ALL FISH’, they mean the species of fish that we eat regularly; those that we are making endangered eg. common species like tuna and cod that are being over-fished and do not survive under deep ocean pressure and will also affect the foodchain\n",
       "110770                                                                                                                                                                                                              @SaharaReporters Nigeria is now an evil forest where you have to offer sacrifices to appaese the demons in it.\n",
       "110771                                                                                                  #MayDay [feasts]\\n\\nThe very earth became strange to us, and we to ourselves. \\n\\nThey put us to work. They no longer asked for a portion, but for everything, for our very time. It was not enough to partition the land.\n",
       "                                                                                                                                                                    ...                                                                                                                                                           \n",
       "123780                                                                       @AwexWane @BlackHavokk \"Are you mashing? Spice things up in the bedroom by challenging his plus frames with your fastest normal. You'll be surprised at when you'll land a counterhit and he'll love that you're forcing him to tighten his strings!\"\n",
       "123781                                                                                                                                   The sooner we have an independent body managing the distribution of #LOTTO funding the better. Not a cent has gone to the #environment ever. (via @thejournal_ie) https://t.co/XecSxoYt1z\n",
       "123782                                                             @DAZNBoxing @Canelo @FloydMayweather It would be a very interesting fight to see but I don't think he knocks floyd out I just can't see that tbh and canelo would be evading more punches and will for sure land some of his own it would be a very good fight.\n",
       "123783    @theo_nash @Nakhthor @CUDeptClassics @girlygoblin THAT definition of worth is what we all need to grapple with, PARTICULARLY the classicists. Because saying \"archaeologists protect the sites bc they have worth\" ignores the fact that we're on stolen land and what little bits the indigenous folks do still have...\n",
       "123784                                                                                                                                                                                               @EthanBWinter @alyce_mcf Tucson!! It's mellow and has great food, is somewhat affordable, and the landscape is just gorgeous.\n",
       "Name: tweet, Length: 13018, dtype: object"
      ]
     },
     "execution_count": 29,
     "metadata": {},
     "output_type": "execute_result"
    }
   ],
   "source": [
    "df[df['sdg'] == 15]['tweet']"
   ]
  },
  {
   "cell_type": "code",
   "execution_count": 30,
   "metadata": {},
   "outputs": [
    {
     "data": {
      "text/plain": [
       "123785                                               @jim_changerooms @AnCapSwiss @Yanihero1 @BartlettVowles @brettblackham @mky0753 @ancapquotes Nope no country has had Lassire-faire capitalism. Governments have always been involved in the economy. You're getting mixed up between capitalism and a mixed economy.\n",
       "123786                                                                                                                    Insein of Yangon strike against military dictatorship and to fight for democracy till the end that we win, in Insein, Yangon today. #WhatsHappeningInMyanmar #Apr29Coup https://t.co/PfuIxb1EG2\n",
       "123787    Apply for the CO-OPPAY PRE-PAID CARD at your nearest @Coopbankenya branch today! Why? \\n✓No need to travel to school everytime, load pocket money in your child's card!\\n✓You can easily monitor your childs spending thru SMS alerts or at a CO-OP kwa Jirani agent \\n#CoopStudentCard https://t.co/Jv1X6Ko4Zc\n",
       "123788                                                                                                         @mutuahkiilu The Ministry of Health (MOH) to provide family planning services at all government hospitals. Moreover, church hospitals also provide family planning services.\\n\\n#TujulishaneFamilyPlanning\n",
       "123789                                                                                                                              Is he even real he look like someone who is out of manga his expression and his shoulders the arms I’m falling for jung jinyoung for the million time now ❤️🥵 https://t.co/1iL5C8aOoS\n",
       "                                                                                                                                                               ...                                                                                                                                                       \n",
       "127966                                           One Big Fight for Human Rights and Democracy invites you to volunteer with us and join the fight for human rights!\\n\\nWe urge the Atenean community to be one with the Filipino people, and unite against tyranny!\\n\\nStudent application here:\\nhttps://t.co/DZsxOXtMNL\n",
       "127967                                                                                                                                                                                       @PMOIndia \\nIn order to prevent him from CoVID-19. Reqst direct concerned authority for further needful. \\nMobile 6006063594\n",
       "127968                         EU adopts rules on one-hour takedowns for terrorist content\\nhttps://t.co/0e83LhqFb8\\nThe European Parliament approved a new law on terrorist content takedowns yesterday, paving the way for one-hour removals to become the legal standard across the EU. The r\\nhttps://t.co/9augo3lxyn\n",
       "127969                                                                                                                                                                                          Those holding out for any good news for the festive season got a hefty dose of disappointment.\\n\\nhttps://t.co/XICiW9Q0rX\n",
       "127970                                                                                                                      Justice isn't some utopic space we'll ever reach. It's a continuous process that responds to a constantly changing world or community. There's no endgame here, we burn-out and burn back in.\n",
       "Name: tweet, Length: 4186, dtype: object"
      ]
     },
     "execution_count": 30,
     "metadata": {},
     "output_type": "execute_result"
    }
   ],
   "source": [
    "df[df['sdg'] == 16]['tweet']"
   ]
  },
  {
   "cell_type": "code",
   "execution_count": 31,
   "metadata": {},
   "outputs": [
    {
     "data": {
      "text/plain": [
       "127971                                                                 Its looking very possible that we’re going to have another year with two English finals in Europe again. Would mean that every member of the top six will have played a European final at least once in the last two years and many of the English clubs are not even at their best!\n",
       "127972                                                                                                                                         Thomas Carle: https://t.co/Xo5zDd7cMM \"Leitfaden - So nimmst Du eine Telenot Anlage in Betrieb.\" -  Your Securityexpert. 5 rules: You feel total secureness. https://t.co/cohMdZQFEn https://t.co/aqoTkbH7U9\n",
       "127973                                                                                                                                                                          https://t.co/frJqqup0BP\\n\\nPlease consider donating to Khalsa Aid. They're helping with the COVID crisis in India at the moment as well as other humanitarian aid projects.\n",
       "127974                                                                                                                                                                                                                                           What a cracking game and 2 beautiful goals from #RiadMehrez and #DeBruyne 😍😍😍 well done to Manchester City\n",
       "127975                           @SkyNewsAust @ScottMorrisonMP Dutton says he can't refurbish military bases to create a network of quarantine centers in every capital city..\\n\\n... But he's happy to spend a fortune refurbishing our northern bases to aid in his war drum beat with China.\\n\\nJust insanity..\\n\\nThe religious nutters are in charge!!\n",
       "                                                                                                                                                                                ...                                                                                                                                                                        \n",
       "129743                                                                          @stokiein @Anna_Soubry @mrjamesob @BorisJohnson You dont care about all the people who are losing jobs because of people like you?Have you got any adv for the fishermen in Grimsby and Cornwall who cant sell their fish in EU anymore? Is there a secret plan B for them?\n",
       "129744                                                                                                        To be  a guest for what ? How to smoke crack!or\\nHow to have Buisness Ties with China! And Daddy can protect you!..\\nHunter Biden To Be Guest Speaker At Tulane University Class Addressing ‘Fake News’ https://t.co/nF1M4Wtpbj via @TPInsidr\n",
       "129745                                                                                                                                 MBA Alumni Association announces an official charity partnership with Orangewood Samueli Academy. 🐾 #ChapmanU #MBA #CharityPartnership\\nTo read more click here ➡️\\n🔗https://t.co/KoHxCueWCS https://t.co/WZInpR6RSl\n",
       "129746                                                           They're feeling it as far away as Australia.\\n\\n\"There are no dramas. The nation’s collective blood pressure is down markedly since … “the former guy” left office. Same in Australia. We no longer wake up wondering what the hell the President did overnight.\"\\nhttps://t.co/7QP3Kh7Yq1\n",
       "129747    @dannynoonan6969 @SarahJo23672889 @TucsonZia @GarretLewis Talk about agenda what do you think this was mob was doing? Looks like a blow hard group pushing their agenda on everyone else in the district. 100 blow hards show up with signs whining. Get your message across better with some civility something you guys clearly lack. Good day.\n",
       "Name: tweet, Length: 1777, dtype: object"
      ]
     },
     "execution_count": 31,
     "metadata": {},
     "output_type": "execute_result"
    }
   ],
   "source": [
    "df[df['sdg'] == 17]['tweet']"
   ]
  },
  {
   "cell_type": "code",
   "execution_count": null,
   "metadata": {},
   "outputs": [],
   "source": []
  }
 ],
 "metadata": {
  "kernelspec": {
   "display_name": "Python 3",
   "language": "python",
   "name": "python3"
  },
  "language_info": {
   "codemirror_mode": {
    "name": "ipython",
    "version": 3
   },
   "file_extension": ".py",
   "mimetype": "text/x-python",
   "name": "python",
   "nbconvert_exporter": "python",
   "pygments_lexer": "ipython3",
   "version": "3.7.4"
  }
 },
 "nbformat": 4,
 "nbformat_minor": 2
}
