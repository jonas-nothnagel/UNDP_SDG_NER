{
 "cells": [
  {
   "cell_type": "code",
   "execution_count": 2,
   "id": "37f71215",
   "metadata": {},
   "outputs": [],
   "source": [
    "from keytotext import pipeline\n",
    "import pandas as pd\n",
    "\n",
    "device = torch.device('cuda:0' if torch.cuda.is_available() else 'cpu')\n",
    "print(device)"
   ]
  },
  {
   "cell_type": "code",
   "execution_count": 6,
   "id": "b8970445",
   "metadata": {},
   "outputs": [],
   "source": [
    "df = pd.read_csv('Ontology_final.csv', delimiter = ';')"
   ]
  },
  {
   "cell_type": "code",
   "execution_count": 8,
   "id": "b53e005f",
   "metadata": {},
   "outputs": [
    {
     "data": {
      "application/vnd.jupyter.widget-view+json": {
       "model_id": "679fddfe6ded421091af1f674a08b918",
       "version_major": 2,
       "version_minor": 0
      },
      "text/plain": [
       "Downloading:   0%|          | 0.00/1.20k [00:00<?, ?B/s]"
      ]
     },
     "metadata": {},
     "output_type": "display_data"
    },
    {
     "data": {
      "application/vnd.jupyter.widget-view+json": {
       "model_id": "1ac23e675c9b476998e98ce48ec53f38",
       "version_major": 2,
       "version_minor": 0
      },
      "text/plain": [
       "Downloading:   0%|          | 0.00/1.39M [00:00<?, ?B/s]"
      ]
     },
     "metadata": {},
     "output_type": "display_data"
    },
    {
     "data": {
      "application/vnd.jupyter.widget-view+json": {
       "model_id": "fa5cca3197a74fb893766c95b85304ad",
       "version_major": 2,
       "version_minor": 0
      },
      "text/plain": [
       "Downloading:   0%|          | 0.00/242M [00:00<?, ?B/s]"
      ]
     },
     "metadata": {},
     "output_type": "display_data"
    }
   ],
   "source": [
    "nlp = pipeline(\"k2t\")"
   ]
  },
  {
   "cell_type": "code",
   "execution_count": 22,
   "id": "99331467",
   "metadata": {},
   "outputs": [
    {
     "data": {
      "application/vnd.jupyter.widget-view+json": {
       "model_id": "35ae442d8d7245e7bd0638fe4af758db",
       "version_major": 2,
       "version_minor": 0
      },
      "text/plain": [
       "Downloading:   0%|          | 0.00/1.20k [00:00<?, ?B/s]"
      ]
     },
     "metadata": {},
     "output_type": "display_data"
    },
    {
     "data": {
      "application/vnd.jupyter.widget-view+json": {
       "model_id": "584e4546ee764a41a8389617d325bf8e",
       "version_major": 2,
       "version_minor": 0
      },
      "text/plain": [
       "Downloading:   0%|          | 0.00/1.39M [00:00<?, ?B/s]"
      ]
     },
     "metadata": {},
     "output_type": "display_data"
    },
    {
     "data": {
      "application/vnd.jupyter.widget-view+json": {
       "model_id": "3362e4aa2fd947c69c4f58a1b5240dc3",
       "version_major": 2,
       "version_minor": 0
      },
      "text/plain": [
       "Downloading:   0%|          | 0.00/892M [00:00<?, ?B/s]"
      ]
     },
     "metadata": {},
     "output_type": "display_data"
    }
   ],
   "source": [
    "nlp2 = pipeline('k2t-base')"
   ]
  },
  {
   "cell_type": "code",
   "execution_count": 29,
   "id": "31a9ac0d",
   "metadata": {},
   "outputs": [
    {
     "data": {
      "text/plain": [
       "'absolute poverty is the absolute poverty.'"
      ]
     },
     "execution_count": 29,
     "metadata": {},
     "output_type": "execute_result"
    }
   ],
   "source": [
    "nlp(df['keyword'][1])"
   ]
  },
  {
   "cell_type": "code",
   "execution_count": 31,
   "id": "f4ed1a7e",
   "metadata": {},
   "outputs": [
    {
     "data": {
      "text/plain": [
       "'The child nutritional status of a child is child nutrient status.'"
      ]
     },
     "execution_count": 31,
     "metadata": {},
     "output_type": "execute_result"
    }
   ],
   "source": [
    "nlp2(df['keyword'][3])"
   ]
  },
  {
   "cell_type": "code",
   "execution_count": null,
   "id": "67537580",
   "metadata": {},
   "outputs": [],
   "source": []
  }
 ],
 "metadata": {
  "kernelspec": {
   "display_name": "Python 3.8 Torch",
   "language": "python",
   "name": "torch"
  },
  "language_info": {
   "codemirror_mode": {
    "name": "ipython",
    "version": 3
   },
   "file_extension": ".py",
   "mimetype": "text/x-python",
   "name": "python",
   "nbconvert_exporter": "python",
   "pygments_lexer": "ipython3",
   "version": "3.8.8"
  }
 },
 "nbformat": 4,
 "nbformat_minor": 5
}
